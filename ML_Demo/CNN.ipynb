{
 "cells": [
  {
   "cell_type": "markdown",
   "metadata": {},
   "source": [
    "<H2>圖像的深度學習－CNN</H2>"
   ]
  },
  {
   "cell_type": "code",
   "execution_count": 1,
   "metadata": {},
   "outputs": [],
   "source": [
    "from keras.datasets import cifar10\n",
    "import matplotlib.pyplot as plt\n",
    "\n",
    "%matplotlib inline"
   ]
  },
  {
   "cell_type": "markdown",
   "metadata": {},
   "source": [
    "<H3>Step1. 資料預處理</H3>"
   ]
  },
  {
   "cell_type": "code",
   "execution_count": 2,
   "metadata": {},
   "outputs": [
    {
     "name": "stdout",
     "output_type": "stream",
     "text": [
      "(50000, 32, 32, 3)\n",
      "(10000, 32, 32, 3)\n"
     ]
    }
   ],
   "source": [
    "(x_train, y_train),(x_test, y_test) = cifar10.load_data()\n",
    "print(x_train.shape)\n",
    "print(x_test.shape)"
   ]
  },
  {
   "cell_type": "code",
   "execution_count": 3,
   "metadata": {},
   "outputs": [],
   "source": [
    "label = {0:\"飛機\", 1:\"車\", 2:\"鳥\", 3:\"貓\", 4:\"鹿\", 5:\"狗\", 6:\"青蛙\", 7:\"馬\", 8:\"船\", 9:\"卡車\"}"
   ]
  },
  {
   "cell_type": "code",
   "execution_count": 4,
   "metadata": {},
   "outputs": [
    {
     "name": "stdout",
     "output_type": "stream",
     "text": [
      "圖片號碼：10000\n",
      "圖片答案：車\n"
     ]
    },
    {
     "data": {
      "text/plain": [
       "<matplotlib.image.AxesImage at 0x1a30bdec288>"
      ]
     },
     "execution_count": 4,
     "metadata": {},
     "output_type": "execute_result"
    },
    {
     "data": {
      "image/png": "[encoded data removed]",
      "text/plain": [
       "<Figure size 432x288 with 1 Axes>"
      ]
     },
     "metadata": {
      "needs_background": "light"
     },
     "output_type": "display_data"
    }
   ],
   "source": [
    "a = 10000\n",
    "print(f'圖片號碼：{(a)}')\n",
    "print(f'圖片答案：{label[y_train[a][0]]}')\n",
    "plt.imshow(x_train[a])"
   ]
  },
  {
   "cell_type": "code",
   "execution_count": 5,
   "metadata": {},
   "outputs": [],
   "source": [
    "# 轉成One-hot Encoding形式\n",
    "from keras.utils import np_utils\n",
    "x_train_shaped = x_train.astype('float32') / 255\n",
    "x_test_shaped = x_test.astype('float32') / 255\n",
    "y_train_cat = np_utils.to_categorical(y_train)\n",
    "y_test_cat = np_utils.to_categorical(y_test)"
   ]
  },
  {
   "cell_type": "markdown",
   "metadata": {},
   "source": [
    "<H3>Step2. 建立模型</H3>"
   ]
  },
  {
   "cell_type": "code",
   "execution_count": 6,
   "metadata": {},
   "outputs": [],
   "source": [
    "from keras.models import Sequential\n",
    "from keras.layers import Dense, Dropout, Activation, Flatten\n",
    "from keras.layers import Conv2D, MaxPooling2D, ZeroPadding2D"
   ]
  },
  {
   "cell_type": "code",
   "execution_count": 7,
   "metadata": {},
   "outputs": [],
   "source": [
    "model = Sequential()\n",
    "# 第一次卷積和第一次池化\n",
    "model. add(Conv2D(filters=32, kernel_size=(3,3), input_shape=(32, 32, 3), activation='relu', padding='same'))\n",
    "model.add(MaxPooling2D(pool_size=(2, 2)))"
   ]
  },
  {
   "cell_type": "code",
   "execution_count": 8,
   "metadata": {},
   "outputs": [],
   "source": [
    "model.add(Dropout(0.25)) # 斷開25%的連接\n",
    "# 並且加入第二次卷積和第二次池化\n",
    "model.add(Conv2D(filters=64, kernel_size=(3,3), activation='relu', padding='same'))\n",
    "model.add(MaxPooling2D(pool_size=(2, 2)))"
   ]
  },
  {
   "cell_type": "code",
   "execution_count": 9,
   "metadata": {},
   "outputs": [],
   "source": [
    "model.add(Flatten()) # 把處理過的東西攤開成為一維\n",
    "model.add(Dropout(rate=0.25)) # 斷開25%的連接"
   ]
  },
  {
   "cell_type": "code",
   "execution_count": 10,
   "metadata": {},
   "outputs": [],
   "source": [
    "# 全連接層\n",
    "model.add(Dense(128, activation='relu'))\n",
    "model.add(Dropout(rate=0.25))"
   ]
  },
  {
   "cell_type": "code",
   "execution_count": 11,
   "metadata": {},
   "outputs": [
    {
     "name": "stdout",
     "output_type": "stream",
     "text": [
      "Model: \"sequential\"\n",
      "_________________________________________________________________\n",
      "Layer (type)                 Output Shape              Param #   \n",
      "=================================================================\n",
      "conv2d (Conv2D)              (None, 32, 32, 32)        896       \n",
      "_________________________________________________________________\n",
      "max_pooling2d (MaxPooling2D) (None, 16, 16, 32)        0         \n",
      "_________________________________________________________________\n",
      "dropout (Dropout)            (None, 16, 16, 32)        0         \n",
      "_________________________________________________________________\n",
      "conv2d_1 (Conv2D)            (None, 16, 16, 64)        18496     \n",
      "_________________________________________________________________\n",
      "max_pooling2d_1 (MaxPooling2 (None, 8, 8, 64)          0         \n",
      "_________________________________________________________________\n",
      "flatten (Flatten)            (None, 4096)              0         \n",
      "_________________________________________________________________\n",
      "dropout_1 (Dropout)          (None, 4096)              0         \n",
      "_________________________________________________________________\n",
      "dense (Dense)                (None, 128)               524416    \n",
      "_________________________________________________________________\n",
      "dropout_2 (Dropout)          (None, 128)               0         \n",
      "_________________________________________________________________\n",
      "dense_1 (Dense)              (None, 10)                1290      \n",
      "=================================================================\n",
      "Total params: 545,098\n",
      "Trainable params: 545,098\n",
      "Non-trainable params: 0\n",
      "_________________________________________________________________\n"
     ]
    }
   ],
   "source": [
    "model.add(Dense(10, activation='softmax'))\n",
    "model.summary()"
   ]
  },
  {
   "cell_type": "markdown",
   "metadata": {},
   "source": [
    "<H4>Param參數個數 (寬度*高度*通道數+bias)*濾波器</H4>\n",
    "<p>第一層卷積層896：(3*3*3+1)*32=896</p>\n",
    "<p>第二層卷積層18,496：(3*3*32+1)*64=18,496</p>\n",
    "<p>全連接層524,416：4096*128+128(bias)=524,416</p>"
   ]
  },
  {
   "cell_type": "code",
   "execution_count": 12,
   "metadata": {},
   "outputs": [
    {
     "data": {
      "image/svg+xml": [
       "<svg height=\"1033pt\" viewBox=\"0.00 0.00 217.00 775.00\" width=\"289pt\" xmlns=\"http://www.w3.org/2000/svg\" xmlns:xlink=\"http://www.w3.org/1999/xlink\">\n",
       "<g class=\"graph\" id=\"graph0\" transform=\"scale(1.33333 1.33333) rotate(0) translate(4 771)\">\n",
       "<title>G</title>\n",
       "<polygon fill=\"white\" points=\"-4,4 -4,-771 213,-771 213,4 -4,4\" stroke=\"none\"/>\n",
       "<!-- 1799983033672 -->\n",
       "<g class=\"node\" id=\"node1\"><title>1799983033672</title>\n",
       "<polygon fill=\"none\" points=\"24,-730.5 24,-766.5 185,-766.5 185,-730.5 24,-730.5\" stroke=\"black\"/>\n",
       "<text font-family=\"Times New Roman,serif\" font-size=\"14.00\" text-anchor=\"middle\" x=\"104.5\" y=\"-744.8\">conv2d_input: InputLayer</text>\n",
       "</g>\n",
       "<!-- 1799983032392 -->\n",
       "<g class=\"node\" id=\"node2\"><title>1799983032392</title>\n",
       "<polygon fill=\"none\" points=\"48,-657.5 48,-693.5 161,-693.5 161,-657.5 48,-657.5\" stroke=\"black\"/>\n",
       "<text font-family=\"Times New Roman,serif\" font-size=\"14.00\" text-anchor=\"middle\" x=\"104.5\" y=\"-671.8\">conv2d: Conv2D</text>\n",
       "</g>\n",
       "<!-- 1799983033672&#45;&gt;1799983032392 -->\n",
       "<g class=\"edge\" id=\"edge1\"><title>1799983033672-&gt;1799983032392</title>\n",
       "<path d=\"M104.5,-730.313C104.5,-722.289 104.5,-712.547 104.5,-703.569\" fill=\"none\" stroke=\"black\"/>\n",
       "<polygon fill=\"black\" points=\"108,-703.529 104.5,-693.529 101,-703.529 108,-703.529\" stroke=\"black\"/>\n",
       "</g>\n",
       "<!-- 1799985553224 -->\n",
       "<g class=\"node\" id=\"node3\"><title>1799985553224</title>\n",
       "<polygon fill=\"none\" points=\"7.5,-584.5 7.5,-620.5 201.5,-620.5 201.5,-584.5 7.5,-584.5\" stroke=\"black\"/>\n",
       "<text font-family=\"Times New Roman,serif\" font-size=\"14.00\" text-anchor=\"middle\" x=\"104.5\" y=\"-598.8\">max_pooling2d: MaxPooling2D</text>\n",
       "</g>\n",
       "<!-- 1799983032392&#45;&gt;1799985553224 -->\n",
       "<g class=\"edge\" id=\"edge2\"><title>1799983032392-&gt;1799985553224</title>\n",
       "<path d=\"M104.5,-657.313C104.5,-649.289 104.5,-639.547 104.5,-630.569\" fill=\"none\" stroke=\"black\"/>\n",
       "<polygon fill=\"black\" points=\"108,-630.529 104.5,-620.529 101,-630.529 108,-630.529\" stroke=\"black\"/>\n",
       "</g>\n",
       "<!-- 1799986947976 -->\n",
       "<g class=\"node\" id=\"node4\"><title>1799986947976</title>\n",
       "<polygon fill=\"none\" points=\"46.5,-511.5 46.5,-547.5 162.5,-547.5 162.5,-511.5 46.5,-511.5\" stroke=\"black\"/>\n",
       "<text font-family=\"Times New Roman,serif\" font-size=\"14.00\" text-anchor=\"middle\" x=\"104.5\" y=\"-525.8\">dropout: Dropout</text>\n",
       "</g>\n",
       "<!-- 1799985553224&#45;&gt;1799986947976 -->\n",
       "<g class=\"edge\" id=\"edge3\"><title>1799985553224-&gt;1799986947976</title>\n",
       "<path d=\"M104.5,-584.313C104.5,-576.289 104.5,-566.547 104.5,-557.569\" fill=\"none\" stroke=\"black\"/>\n",
       "<polygon fill=\"black\" points=\"108,-557.529 104.5,-547.529 101,-557.529 108,-557.529\" stroke=\"black\"/>\n",
       "</g>\n",
       "<!-- 1799985598088 -->\n",
       "<g class=\"node\" id=\"node5\"><title>1799985598088</title>\n",
       "<polygon fill=\"none\" points=\"41,-438.5 41,-474.5 168,-474.5 168,-438.5 41,-438.5\" stroke=\"black\"/>\n",
       "<text font-family=\"Times New Roman,serif\" font-size=\"14.00\" text-anchor=\"middle\" x=\"104.5\" y=\"-452.8\">conv2d_1: Conv2D</text>\n",
       "</g>\n",
       "<!-- 1799986947976&#45;&gt;1799985598088 -->\n",
       "<g class=\"edge\" id=\"edge4\"><title>1799986947976-&gt;1799985598088</title>\n",
       "<path d=\"M104.5,-511.313C104.5,-503.289 104.5,-493.547 104.5,-484.569\" fill=\"none\" stroke=\"black\"/>\n",
       "<polygon fill=\"black\" points=\"108,-484.529 104.5,-474.529 101,-484.529 108,-484.529\" stroke=\"black\"/>\n",
       "</g>\n",
       "<!-- 1799987100936 -->\n",
       "<g class=\"node\" id=\"node6\"><title>1799987100936</title>\n",
       "<polygon fill=\"none\" points=\"0,-365.5 0,-401.5 209,-401.5 209,-365.5 0,-365.5\" stroke=\"black\"/>\n",
       "<text font-family=\"Times New Roman,serif\" font-size=\"14.00\" text-anchor=\"middle\" x=\"104.5\" y=\"-379.8\">max_pooling2d_1: MaxPooling2D</text>\n",
       "</g>\n",
       "<!-- 1799985598088&#45;&gt;1799987100936 -->\n",
       "<g class=\"edge\" id=\"edge5\"><title>1799985598088-&gt;1799987100936</title>\n",
       "<path d=\"M104.5,-438.313C104.5,-430.289 104.5,-420.547 104.5,-411.569\" fill=\"none\" stroke=\"black\"/>\n",
       "<polygon fill=\"black\" points=\"108,-411.529 104.5,-401.529 101,-411.529 108,-411.529\" stroke=\"black\"/>\n",
       "</g>\n",
       "<!-- 1799987182280 -->\n",
       "<g class=\"node\" id=\"node7\"><title>1799987182280</title>\n",
       "<polygon fill=\"none\" points=\"57,-292.5 57,-328.5 152,-328.5 152,-292.5 57,-292.5\" stroke=\"black\"/>\n",
       "<text font-family=\"Times New Roman,serif\" font-size=\"14.00\" text-anchor=\"middle\" x=\"104.5\" y=\"-306.8\">flatten: Flatten</text>\n",
       "</g>\n",
       "<!-- 1799987100936&#45;&gt;1799987182280 -->\n",
       "<g class=\"edge\" id=\"edge6\"><title>1799987100936-&gt;1799987182280</title>\n",
       "<path d=\"M104.5,-365.313C104.5,-357.289 104.5,-347.547 104.5,-338.569\" fill=\"none\" stroke=\"black\"/>\n",
       "<polygon fill=\"black\" points=\"108,-338.529 104.5,-328.529 101,-338.529 108,-338.529\" stroke=\"black\"/>\n",
       "</g>\n",
       "<!-- 1799987169416 -->\n",
       "<g class=\"node\" id=\"node8\"><title>1799987169416</title>\n",
       "<polygon fill=\"none\" points=\"39.5,-219.5 39.5,-255.5 169.5,-255.5 169.5,-219.5 39.5,-219.5\" stroke=\"black\"/>\n",
       "<text font-family=\"Times New Roman,serif\" font-size=\"14.00\" text-anchor=\"middle\" x=\"104.5\" y=\"-233.8\">dropout_1: Dropout</text>\n",
       "</g>\n",
       "<!-- 1799987182280&#45;&gt;1799987169416 -->\n",
       "<g class=\"edge\" id=\"edge7\"><title>1799987182280-&gt;1799987169416</title>\n",
       "<path d=\"M104.5,-292.313C104.5,-284.289 104.5,-274.547 104.5,-265.569\" fill=\"none\" stroke=\"black\"/>\n",
       "<polygon fill=\"black\" points=\"108,-265.529 104.5,-255.529 101,-265.529 108,-265.529\" stroke=\"black\"/>\n",
       "</g>\n",
       "<!-- 1799987258824 -->\n",
       "<g class=\"node\" id=\"node9\"><title>1799987258824</title>\n",
       "<polygon fill=\"none\" points=\"59.5,-146.5 59.5,-182.5 149.5,-182.5 149.5,-146.5 59.5,-146.5\" stroke=\"black\"/>\n",
       "<text font-family=\"Times New Roman,serif\" font-size=\"14.00\" text-anchor=\"middle\" x=\"104.5\" y=\"-160.8\">dense: Dense</text>\n",
       "</g>\n",
       "<!-- 1799987169416&#45;&gt;1799987258824 -->\n",
       "<g class=\"edge\" id=\"edge8\"><title>1799987169416-&gt;1799987258824</title>\n",
       "<path d=\"M104.5,-219.313C104.5,-211.289 104.5,-201.547 104.5,-192.569\" fill=\"none\" stroke=\"black\"/>\n",
       "<polygon fill=\"black\" points=\"108,-192.529 104.5,-182.529 101,-192.529 108,-192.529\" stroke=\"black\"/>\n",
       "</g>\n",
       "<!-- 1799987259016 -->\n",
       "<g class=\"node\" id=\"node10\"><title>1799987259016</title>\n",
       "<polygon fill=\"none\" points=\"39.5,-73.5 39.5,-109.5 169.5,-109.5 169.5,-73.5 39.5,-73.5\" stroke=\"black\"/>\n",
       "<text font-family=\"Times New Roman,serif\" font-size=\"14.00\" text-anchor=\"middle\" x=\"104.5\" y=\"-87.8\">dropout_2: Dropout</text>\n",
       "</g>\n",
       "<!-- 1799987258824&#45;&gt;1799987259016 -->\n",
       "<g class=\"edge\" id=\"edge9\"><title>1799987258824-&gt;1799987259016</title>\n",
       "<path d=\"M104.5,-146.313C104.5,-138.289 104.5,-128.547 104.5,-119.569\" fill=\"none\" stroke=\"black\"/>\n",
       "<polygon fill=\"black\" points=\"108,-119.529 104.5,-109.529 101,-119.529 108,-119.529\" stroke=\"black\"/>\n",
       "</g>\n",
       "<!-- 1799987296776 -->\n",
       "<g class=\"node\" id=\"node11\"><title>1799987296776</title>\n",
       "<polygon fill=\"none\" points=\"52.5,-0.5 52.5,-36.5 156.5,-36.5 156.5,-0.5 52.5,-0.5\" stroke=\"black\"/>\n",
       "<text font-family=\"Times New Roman,serif\" font-size=\"14.00\" text-anchor=\"middle\" x=\"104.5\" y=\"-14.8\">dense_1: Dense</text>\n",
       "</g>\n",
       "<!-- 1799987259016&#45;&gt;1799987296776 -->\n",
       "<g class=\"edge\" id=\"edge10\"><title>1799987259016-&gt;1799987296776</title>\n",
       "<path d=\"M104.5,-73.3129C104.5,-65.2895 104.5,-55.5475 104.5,-46.5691\" fill=\"none\" stroke=\"black\"/>\n",
       "<polygon fill=\"black\" points=\"108,-46.5288 104.5,-36.5288 101,-46.5289 108,-46.5288\" stroke=\"black\"/>\n",
       "</g>\n",
       "</g>\n",
       "</svg>"
      ],
      "text/plain": [
       "<IPython.core.display.SVG object>"
      ]
     },
     "execution_count": 12,
     "metadata": {},
     "output_type": "execute_result"
    }
   ],
   "source": [
    "from IPython.display import SVG\n",
    "from keras.utils.vis_utils import model_to_dot\n",
    "SVG(model_to_dot(model).create(prog='dot', format='svg'))"
   ]
  },
  {
   "cell_type": "code",
   "execution_count": 14,
   "metadata": {},
   "outputs": [
    {
     "name": "stdout",
     "output_type": "stream",
     "text": [
      "Epoch 1/10\n",
      "352/352 - 24s - loss: 1.7955 - accuracy: 0.3497 - val_loss: 1.4342 - val_accuracy: 0.4960\n",
      "Epoch 2/10\n",
      "352/352 - 24s - loss: 1.4175 - accuracy: 0.4877 - val_loss: 1.2595 - val_accuracy: 0.5584\n",
      "Epoch 3/10\n",
      "352/352 - 24s - loss: 1.2778 - accuracy: 0.5457 - val_loss: 1.1248 - val_accuracy: 0.6130\n",
      "Epoch 4/10\n",
      "352/352 - 25s - loss: 1.1930 - accuracy: 0.5769 - val_loss: 1.0728 - val_accuracy: 0.6344\n",
      "Epoch 5/10\n",
      "352/352 - 25s - loss: 1.1324 - accuracy: 0.6003 - val_loss: 1.0176 - val_accuracy: 0.6496\n",
      "Epoch 6/10\n",
      "352/352 - 24s - loss: 1.0773 - accuracy: 0.6197 - val_loss: 0.9420 - val_accuracy: 0.6780\n",
      "Epoch 7/10\n",
      "352/352 - 24s - loss: 1.0435 - accuracy: 0.6303 - val_loss: 0.9309 - val_accuracy: 0.6830\n",
      "Epoch 8/10\n",
      "352/352 - 24s - loss: 1.0079 - accuracy: 0.6446 - val_loss: 0.9403 - val_accuracy: 0.6794\n",
      "Epoch 9/10\n",
      "352/352 - 24s - loss: 0.9785 - accuracy: 0.6539 - val_loss: 0.8686 - val_accuracy: 0.7048\n",
      "Epoch 10/10\n",
      "352/352 - 25s - loss: 0.9520 - accuracy: 0.6629 - val_loss: 0.8958 - val_accuracy: 0.6956\n"
     ]
    }
   ],
   "source": [
    "# 開始訓練\n",
    "model.compile(loss='categorical_crossentropy', optimizer='adam', metrics=['accuracy'])\n",
    "train_history = model.fit(x=x_train_shaped, y=y_train_cat, validation_split=0.1, epochs=10, batch_size=128, verbose=2)"
   ]
  },
  {
   "cell_type": "code",
   "execution_count": 16,
   "metadata": {},
   "outputs": [
    {
     "data": {
      "text/plain": [
       "<matplotlib.legend.Legend at 0x1a321059e48>"
      ]
     },
     "execution_count": 16,
     "metadata": {},
     "output_type": "execute_result"
    },
    {
     "data": {
      "image/png": "[encoded data removed]",
      "text/plain": [
       "<Figure size 432x288 with 1 Axes>"
      ]
     },
     "metadata": {
      "needs_background": "light"
     },
     "output_type": "display_data"
    }
   ],
   "source": [
    "plt.plot(train_history.history['loss'])\n",
    "plt.plot(train_history.history['val_loss'])\n",
    "plt.title('Loss Graph')\n",
    "plt.legend(['loss', 'val_loss'], loc='upper left')"
   ]
  },
  {
   "cell_type": "code",
   "execution_count": 17,
   "metadata": {},
   "outputs": [
    {
     "name": "stdout",
     "output_type": "stream",
     "text": [
      "313/313 [==============================] - 1s 5ms/step - loss: 0.9239 - accuracy: 0.6815\n"
     ]
    },
    {
     "data": {
      "text/plain": [
       "[0.923915445804596, 0.6815000176429749]"
      ]
     },
     "execution_count": 17,
     "metadata": {},
     "output_type": "execute_result"
    }
   ],
   "source": [
    "model.evaluate(x_test_shaped, y_test_cat)"
   ]
  },
  {
   "cell_type": "markdown",
   "metadata": {},
   "source": [
    "<H3>Step3. 儲存模型</H3>"
   ]
  },
  {
   "cell_type": "code",
   "execution_count": 18,
   "metadata": {},
   "outputs": [],
   "source": [
    "model.save('cnn1.h5')"
   ]
  },
  {
   "cell_type": "code",
   "execution_count": null,
   "metadata": {},
   "outputs": [],
   "source": []
  },
  {
   "cell_type": "markdown",
   "metadata": {},
   "source": [
    "<H2>再論CNN</H2>"
   ]
  },
  {
   "cell_type": "code",
   "execution_count": 7,
   "metadata": {},
   "outputs": [],
   "source": [
    "from keras.datasets import cifar10\n",
    "import matplotlib.pyplot as plt"
   ]
  },
  {
   "cell_type": "code",
   "execution_count": 3,
   "metadata": {},
   "outputs": [
    {
     "name": "stdout",
     "output_type": "stream",
     "text": [
      "(50000, 32, 32, 3)\n",
      "(10000, 32, 32, 3)\n"
     ]
    }
   ],
   "source": [
    "(x_train, y_train),(x_test, y_test) = cifar10.load_data()\n",
    "print(x_train.shape)\n",
    "print(x_test.shape)"
   ]
  },
  {
   "cell_type": "code",
   "execution_count": 4,
   "metadata": {},
   "outputs": [],
   "source": [
    "label = {0:\"飛機\", 1:\"車\", 2:\"鳥\", 3:\"貓\", 4:\"鹿\", 5:\"狗\", 6:\"青蛙\", 7:\"馬\", 8:\"船\", 9:\"卡車\"}"
   ]
  },
  {
   "cell_type": "code",
   "execution_count": 8,
   "metadata": {},
   "outputs": [
    {
     "name": "stdout",
     "output_type": "stream",
     "text": [
      "圖片號碼：14\n",
      "圖片答案：卡車\n"
     ]
    },
    {
     "data": {
      "text/plain": [
       "<matplotlib.image.AxesImage at 0x2a239390a88>"
      ]
     },
     "execution_count": 8,
     "metadata": {},
     "output_type": "execute_result"
    }
   ],
   "source": [
    "a = 14\n",
    "print(f'圖片號碼：{(a)}')\n",
    "print(f'圖片答案：{label[y_train[a][0]]}')\n",
    "plt.imshow(x_train[a])"
   ]
  },
  {
   "cell_type": "code",
   "execution_count": 10,
   "metadata": {},
   "outputs": [],
   "source": [
    "from keras.utils import np_utils\n",
    "x_train_shaped = x_train.astype('float32') / 255\n",
    "x_test_shaped = x_test.astype('float32') / 255\n",
    "y_train_cat = np_utils.to_categorical(y_train)\n",
    "y_test_cat = np_utils.to_categorical(y_test)"
   ]
  },
  {
   "cell_type": "code",
   "execution_count": 11,
   "metadata": {},
   "outputs": [],
   "source": [
    "from keras.models import Sequential\n",
    "from keras.layers import Dense, Dropout, Activation, Flatten\n",
    "from keras.layers import Conv2D, MaxPooling2D, ZeroPadding2D"
   ]
  },
  {
   "cell_type": "code",
   "execution_count": 12,
   "metadata": {},
   "outputs": [],
   "source": [
    "model = Sequential()\n",
    "# 第一次卷積和第一次池化\n",
    "model.add(Conv2D(filters=64, kernel_size=(3,3), input_shape=(32, 32, 3), activation='relu', padding='same'))\n",
    "model.add(Conv2D(filters=64, kernel_size=(3,3), activation='relu', padding='same'))\n",
    "model.add(MaxPooling2D(pool_size=(2, 2)))"
   ]
  },
  {
   "cell_type": "code",
   "execution_count": 13,
   "metadata": {},
   "outputs": [],
   "source": [
    "model.add(Dropout(0.25))\n",
    "model.add(Conv2D(filters=128, kernel_size=(3,3), activation='relu', padding='same'))\n",
    "model.add(Conv2D(filters=128, kernel_size=(3,3), activation='relu', padding='same'))\n",
    "model.add(MaxPooling2D(pool_size=(2, 2)))"
   ]
  },
  {
   "cell_type": "code",
   "execution_count": 14,
   "metadata": {},
   "outputs": [],
   "source": [
    "model.add(Dropout(0.25))\n",
    "model.add(Conv2D(filters=256, kernel_size=(3,3), activation='relu', padding='same'))\n",
    "model.add(Conv2D(filters=256, kernel_size=(3,3), activation='relu', padding='same'))\n",
    "model.add(MaxPooling2D(pool_size=(2, 2)))"
   ]
  },
  {
   "cell_type": "code",
   "execution_count": 15,
   "metadata": {},
   "outputs": [],
   "source": [
    "model.add(Flatten())\n",
    "model.add(Dropout(0.25))"
   ]
  },
  {
   "cell_type": "code",
   "execution_count": 16,
   "metadata": {},
   "outputs": [],
   "source": [
    "model.add(Dense(1024, activation='relu'))\n",
    "model.add(Dropout(0.25))"
   ]
  },
  {
   "cell_type": "code",
   "execution_count": 17,
   "metadata": {},
   "outputs": [
    {
     "name": "stdout",
     "output_type": "stream",
     "text": [
      "Model: \"sequential\"\n",
      "_________________________________________________________________\n",
      "Layer (type)                 Output Shape              Param #   \n",
      "=================================================================\n",
      "conv2d (Conv2D)              (None, 32, 32, 64)        1792      \n",
      "_________________________________________________________________\n",
      "conv2d_1 (Conv2D)            (None, 32, 32, 64)        36928     \n",
      "_________________________________________________________________\n",
      "max_pooling2d (MaxPooling2D) (None, 16, 16, 64)        0         \n",
      "_________________________________________________________________\n",
      "dropout (Dropout)            (None, 16, 16, 64)        0         \n",
      "_________________________________________________________________\n",
      "conv2d_2 (Conv2D)            (None, 16, 16, 128)       73856     \n",
      "_________________________________________________________________\n",
      "conv2d_3 (Conv2D)            (None, 16, 16, 128)       147584    \n",
      "_________________________________________________________________\n",
      "max_pooling2d_1 (MaxPooling2 (None, 8, 8, 128)         0         \n",
      "_________________________________________________________________\n",
      "dropout_1 (Dropout)          (None, 8, 8, 128)         0         \n",
      "_________________________________________________________________\n",
      "conv2d_4 (Conv2D)            (None, 8, 8, 256)         295168    \n",
      "_________________________________________________________________\n",
      "conv2d_5 (Conv2D)            (None, 8, 8, 256)         590080    \n",
      "_________________________________________________________________\n",
      "max_pooling2d_2 (MaxPooling2 (None, 4, 4, 256)         0         \n",
      "_________________________________________________________________\n",
      "flatten (Flatten)            (None, 4096)              0         \n",
      "_________________________________________________________________\n",
      "dropout_2 (Dropout)          (None, 4096)              0         \n",
      "_________________________________________________________________\n",
      "dense (Dense)                (None, 1024)              4195328   \n",
      "_________________________________________________________________\n",
      "dropout_3 (Dropout)          (None, 1024)              0         \n",
      "_________________________________________________________________\n",
      "dense_1 (Dense)              (None, 10)                10250     \n",
      "=================================================================\n",
      "Total params: 5,350,986\n",
      "Trainable params: 5,350,986\n",
      "Non-trainable params: 0\n",
      "_________________________________________________________________\n"
     ]
    }
   ],
   "source": [
    "model.add(Dense(10, activation='softmax'))\n",
    "model.summary()"
   ]
  },
  {
   "cell_type": "code",
   "execution_count": 18,
   "metadata": {},
   "outputs": [
    {
     "data": {
      "image/svg+xml": [
       "<svg height=\"1617pt\" viewBox=\"0.00 0.00 217.00 1213.00\" width=\"289pt\" xmlns=\"http://www.w3.org/2000/svg\" xmlns:xlink=\"http://www.w3.org/1999/xlink\">\n",
       "<g class=\"graph\" id=\"graph0\" transform=\"scale(1.33333 1.33333) rotate(0) translate(4 1209)\">\n",
       "<title>G</title>\n",
       "<polygon fill=\"white\" points=\"-4,4 -4,-1209 213,-1209 213,4 -4,4\" stroke=\"none\"/>\n",
       "<!-- 2895807703048 -->\n",
       "<g class=\"node\" id=\"node1\"><title>2895807703048</title>\n",
       "<polygon fill=\"none\" points=\"24,-1168.5 24,-1204.5 185,-1204.5 185,-1168.5 24,-1168.5\" stroke=\"black\"/>\n",
       "<text font-family=\"Times New Roman,serif\" font-size=\"14.00\" text-anchor=\"middle\" x=\"104.5\" y=\"-1182.8\">conv2d_input: InputLayer</text>\n",
       "</g>\n",
       "<!-- 2895808048008 -->\n",
       "<g class=\"node\" id=\"node2\"><title>2895808048008</title>\n",
       "<polygon fill=\"none\" points=\"48,-1095.5 48,-1131.5 161,-1131.5 161,-1095.5 48,-1095.5\" stroke=\"black\"/>\n",
       "<text font-family=\"Times New Roman,serif\" font-size=\"14.00\" text-anchor=\"middle\" x=\"104.5\" y=\"-1109.8\">conv2d: Conv2D</text>\n",
       "</g>\n",
       "<!-- 2895807703048&#45;&gt;2895808048008 -->\n",
       "<g class=\"edge\" id=\"edge1\"><title>2895807703048-&gt;2895808048008</title>\n",
       "<path d=\"M104.5,-1168.31C104.5,-1160.29 104.5,-1150.55 104.5,-1141.57\" fill=\"none\" stroke=\"black\"/>\n",
       "<polygon fill=\"black\" points=\"108,-1141.53 104.5,-1131.53 101,-1141.53 108,-1141.53\" stroke=\"black\"/>\n",
       "</g>\n",
       "<!-- 2895808354760 -->\n",
       "<g class=\"node\" id=\"node3\"><title>2895808354760</title>\n",
       "<polygon fill=\"none\" points=\"41,-1022.5 41,-1058.5 168,-1058.5 168,-1022.5 41,-1022.5\" stroke=\"black\"/>\n",
       "<text font-family=\"Times New Roman,serif\" font-size=\"14.00\" text-anchor=\"middle\" x=\"104.5\" y=\"-1036.8\">conv2d_1: Conv2D</text>\n",
       "</g>\n",
       "<!-- 2895808048008&#45;&gt;2895808354760 -->\n",
       "<g class=\"edge\" id=\"edge2\"><title>2895808048008-&gt;2895808354760</title>\n",
       "<path d=\"M104.5,-1095.31C104.5,-1087.29 104.5,-1077.55 104.5,-1068.57\" fill=\"none\" stroke=\"black\"/>\n",
       "<polygon fill=\"black\" points=\"108,-1068.53 104.5,-1058.53 101,-1068.53 108,-1068.53\" stroke=\"black\"/>\n",
       "</g>\n",
       "<!-- 2895808355208 -->\n",
       "<g class=\"node\" id=\"node4\"><title>2895808355208</title>\n",
       "<polygon fill=\"none\" points=\"7.5,-949.5 7.5,-985.5 201.5,-985.5 201.5,-949.5 7.5,-949.5\" stroke=\"black\"/>\n",
       "<text font-family=\"Times New Roman,serif\" font-size=\"14.00\" text-anchor=\"middle\" x=\"104.5\" y=\"-963.8\">max_pooling2d: MaxPooling2D</text>\n",
       "</g>\n",
       "<!-- 2895808354760&#45;&gt;2895808355208 -->\n",
       "<g class=\"edge\" id=\"edge3\"><title>2895808354760-&gt;2895808355208</title>\n",
       "<path d=\"M104.5,-1022.31C104.5,-1014.29 104.5,-1004.55 104.5,-995.569\" fill=\"none\" stroke=\"black\"/>\n",
       "<polygon fill=\"black\" points=\"108,-995.529 104.5,-985.529 101,-995.529 108,-995.529\" stroke=\"black\"/>\n",
       "</g>\n",
       "<!-- 2895808135880 -->\n",
       "<g class=\"node\" id=\"node5\"><title>2895808135880</title>\n",
       "<polygon fill=\"none\" points=\"46.5,-876.5 46.5,-912.5 162.5,-912.5 162.5,-876.5 46.5,-876.5\" stroke=\"black\"/>\n",
       "<text font-family=\"Times New Roman,serif\" font-size=\"14.00\" text-anchor=\"middle\" x=\"104.5\" y=\"-890.8\">dropout: Dropout</text>\n",
       "</g>\n",
       "<!-- 2895808355208&#45;&gt;2895808135880 -->\n",
       "<g class=\"edge\" id=\"edge4\"><title>2895808355208-&gt;2895808135880</title>\n",
       "<path d=\"M104.5,-949.313C104.5,-941.289 104.5,-931.547 104.5,-922.569\" fill=\"none\" stroke=\"black\"/>\n",
       "<polygon fill=\"black\" points=\"108,-922.529 104.5,-912.529 101,-922.529 108,-922.529\" stroke=\"black\"/>\n",
       "</g>\n",
       "<!-- 2895808436552 -->\n",
       "<g class=\"node\" id=\"node6\"><title>2895808436552</title>\n",
       "<polygon fill=\"none\" points=\"41,-803.5 41,-839.5 168,-839.5 168,-803.5 41,-803.5\" stroke=\"black\"/>\n",
       "<text font-family=\"Times New Roman,serif\" font-size=\"14.00\" text-anchor=\"middle\" x=\"104.5\" y=\"-817.8\">conv2d_2: Conv2D</text>\n",
       "</g>\n",
       "<!-- 2895808135880&#45;&gt;2895808436552 -->\n",
       "<g class=\"edge\" id=\"edge5\"><title>2895808135880-&gt;2895808436552</title>\n",
       "<path d=\"M104.5,-876.313C104.5,-868.289 104.5,-858.547 104.5,-849.569\" fill=\"none\" stroke=\"black\"/>\n",
       "<polygon fill=\"black\" points=\"108,-849.529 104.5,-839.529 101,-849.529 108,-849.529\" stroke=\"black\"/>\n",
       "</g>\n",
       "<!-- 2895808362312 -->\n",
       "<g class=\"node\" id=\"node7\"><title>2895808362312</title>\n",
       "<polygon fill=\"none\" points=\"41,-730.5 41,-766.5 168,-766.5 168,-730.5 41,-730.5\" stroke=\"black\"/>\n",
       "<text font-family=\"Times New Roman,serif\" font-size=\"14.00\" text-anchor=\"middle\" x=\"104.5\" y=\"-744.8\">conv2d_3: Conv2D</text>\n",
       "</g>\n",
       "<!-- 2895808436552&#45;&gt;2895808362312 -->\n",
       "<g class=\"edge\" id=\"edge6\"><title>2895808436552-&gt;2895808362312</title>\n",
       "<path d=\"M104.5,-803.313C104.5,-795.289 104.5,-785.547 104.5,-776.569\" fill=\"none\" stroke=\"black\"/>\n",
       "<polygon fill=\"black\" points=\"108,-776.529 104.5,-766.529 101,-776.529 108,-776.529\" stroke=\"black\"/>\n",
       "</g>\n",
       "<!-- 2895818477384 -->\n",
       "<g class=\"node\" id=\"node8\"><title>2895818477384</title>\n",
       "<polygon fill=\"none\" points=\"0,-657.5 0,-693.5 209,-693.5 209,-657.5 0,-657.5\" stroke=\"black\"/>\n",
       "<text font-family=\"Times New Roman,serif\" font-size=\"14.00\" text-anchor=\"middle\" x=\"104.5\" y=\"-671.8\">max_pooling2d_1: MaxPooling2D</text>\n",
       "</g>\n",
       "<!-- 2895808362312&#45;&gt;2895818477384 -->\n",
       "<g class=\"edge\" id=\"edge7\"><title>2895808362312-&gt;2895818477384</title>\n",
       "<path d=\"M104.5,-730.313C104.5,-722.289 104.5,-712.547 104.5,-703.569\" fill=\"none\" stroke=\"black\"/>\n",
       "<polygon fill=\"black\" points=\"108,-703.529 104.5,-693.529 101,-703.529 108,-703.529\" stroke=\"black\"/>\n",
       "</g>\n",
       "<!-- 2895829131144 -->\n",
       "<g class=\"node\" id=\"node9\"><title>2895829131144</title>\n",
       "<polygon fill=\"none\" points=\"39.5,-584.5 39.5,-620.5 169.5,-620.5 169.5,-584.5 39.5,-584.5\" stroke=\"black\"/>\n",
       "<text font-family=\"Times New Roman,serif\" font-size=\"14.00\" text-anchor=\"middle\" x=\"104.5\" y=\"-598.8\">dropout_1: Dropout</text>\n",
       "</g>\n",
       "<!-- 2895818477384&#45;&gt;2895829131144 -->\n",
       "<g class=\"edge\" id=\"edge8\"><title>2895818477384-&gt;2895829131144</title>\n",
       "<path d=\"M104.5,-657.313C104.5,-649.289 104.5,-639.547 104.5,-630.569\" fill=\"none\" stroke=\"black\"/>\n",
       "<polygon fill=\"black\" points=\"108,-630.529 104.5,-620.529 101,-630.529 108,-630.529\" stroke=\"black\"/>\n",
       "</g>\n",
       "<!-- 2895829130632 -->\n",
       "<g class=\"node\" id=\"node10\"><title>2895829130632</title>\n",
       "<polygon fill=\"none\" points=\"41,-511.5 41,-547.5 168,-547.5 168,-511.5 41,-511.5\" stroke=\"black\"/>\n",
       "<text font-family=\"Times New Roman,serif\" font-size=\"14.00\" text-anchor=\"middle\" x=\"104.5\" y=\"-525.8\">conv2d_4: Conv2D</text>\n",
       "</g>\n",
       "<!-- 2895829131144&#45;&gt;2895829130632 -->\n",
       "<g class=\"edge\" id=\"edge9\"><title>2895829131144-&gt;2895829130632</title>\n",
       "<path d=\"M104.5,-584.313C104.5,-576.289 104.5,-566.547 104.5,-557.569\" fill=\"none\" stroke=\"black\"/>\n",
       "<polygon fill=\"black\" points=\"108,-557.529 104.5,-547.529 101,-557.529 108,-557.529\" stroke=\"black\"/>\n",
       "</g>\n",
       "<!-- 2895829074248 -->\n",
       "<g class=\"node\" id=\"node11\"><title>2895829074248</title>\n",
       "<polygon fill=\"none\" points=\"41,-438.5 41,-474.5 168,-474.5 168,-438.5 41,-438.5\" stroke=\"black\"/>\n",
       "<text font-family=\"Times New Roman,serif\" font-size=\"14.00\" text-anchor=\"middle\" x=\"104.5\" y=\"-452.8\">conv2d_5: Conv2D</text>\n",
       "</g>\n",
       "<!-- 2895829130632&#45;&gt;2895829074248 -->\n",
       "<g class=\"edge\" id=\"edge10\"><title>2895829130632-&gt;2895829074248</title>\n",
       "<path d=\"M104.5,-511.313C104.5,-503.289 104.5,-493.547 104.5,-484.569\" fill=\"none\" stroke=\"black\"/>\n",
       "<polygon fill=\"black\" points=\"108,-484.529 104.5,-474.529 101,-484.529 108,-484.529\" stroke=\"black\"/>\n",
       "</g>\n",
       "<!-- 2895819022216 -->\n",
       "<g class=\"node\" id=\"node12\"><title>2895819022216</title>\n",
       "<polygon fill=\"none\" points=\"0,-365.5 0,-401.5 209,-401.5 209,-365.5 0,-365.5\" stroke=\"black\"/>\n",
       "<text font-family=\"Times New Roman,serif\" font-size=\"14.00\" text-anchor=\"middle\" x=\"104.5\" y=\"-379.8\">max_pooling2d_2: MaxPooling2D</text>\n",
       "</g>\n",
       "<!-- 2895829074248&#45;&gt;2895819022216 -->\n",
       "<g class=\"edge\" id=\"edge11\"><title>2895829074248-&gt;2895819022216</title>\n",
       "<path d=\"M104.5,-438.313C104.5,-430.289 104.5,-420.547 104.5,-411.569\" fill=\"none\" stroke=\"black\"/>\n",
       "<polygon fill=\"black\" points=\"108,-411.529 104.5,-401.529 101,-411.529 108,-411.529\" stroke=\"black\"/>\n",
       "</g>\n",
       "<!-- 2895832544392 -->\n",
       "<g class=\"node\" id=\"node13\"><title>2895832544392</title>\n",
       "<polygon fill=\"none\" points=\"57,-292.5 57,-328.5 152,-328.5 152,-292.5 57,-292.5\" stroke=\"black\"/>\n",
       "<text font-family=\"Times New Roman,serif\" font-size=\"14.00\" text-anchor=\"middle\" x=\"104.5\" y=\"-306.8\">flatten: Flatten</text>\n",
       "</g>\n",
       "<!-- 2895819022216&#45;&gt;2895832544392 -->\n",
       "<g class=\"edge\" id=\"edge12\"><title>2895819022216-&gt;2895832544392</title>\n",
       "<path d=\"M104.5,-365.313C104.5,-357.289 104.5,-347.547 104.5,-338.569\" fill=\"none\" stroke=\"black\"/>\n",
       "<polygon fill=\"black\" points=\"108,-338.529 104.5,-328.529 101,-338.529 108,-338.529\" stroke=\"black\"/>\n",
       "</g>\n",
       "<!-- 2895832543304 -->\n",
       "<g class=\"node\" id=\"node14\"><title>2895832543304</title>\n",
       "<polygon fill=\"none\" points=\"39.5,-219.5 39.5,-255.5 169.5,-255.5 169.5,-219.5 39.5,-219.5\" stroke=\"black\"/>\n",
       "<text font-family=\"Times New Roman,serif\" font-size=\"14.00\" text-anchor=\"middle\" x=\"104.5\" y=\"-233.8\">dropout_2: Dropout</text>\n",
       "</g>\n",
       "<!-- 2895832544392&#45;&gt;2895832543304 -->\n",
       "<g class=\"edge\" id=\"edge13\"><title>2895832544392-&gt;2895832543304</title>\n",
       "<path d=\"M104.5,-292.313C104.5,-284.289 104.5,-274.547 104.5,-265.569\" fill=\"none\" stroke=\"black\"/>\n",
       "<polygon fill=\"black\" points=\"108,-265.529 104.5,-255.529 101,-265.529 108,-265.529\" stroke=\"black\"/>\n",
       "</g>\n",
       "<!-- 2895831214088 -->\n",
       "<g class=\"node\" id=\"node15\"><title>2895831214088</title>\n",
       "<polygon fill=\"none\" points=\"59.5,-146.5 59.5,-182.5 149.5,-182.5 149.5,-146.5 59.5,-146.5\" stroke=\"black\"/>\n",
       "<text font-family=\"Times New Roman,serif\" font-size=\"14.00\" text-anchor=\"middle\" x=\"104.5\" y=\"-160.8\">dense: Dense</text>\n",
       "</g>\n",
       "<!-- 2895832543304&#45;&gt;2895831214088 -->\n",
       "<g class=\"edge\" id=\"edge14\"><title>2895832543304-&gt;2895831214088</title>\n",
       "<path d=\"M104.5,-219.313C104.5,-211.289 104.5,-201.547 104.5,-192.569\" fill=\"none\" stroke=\"black\"/>\n",
       "<polygon fill=\"black\" points=\"108,-192.529 104.5,-182.529 101,-192.529 108,-192.529\" stroke=\"black\"/>\n",
       "</g>\n",
       "<!-- 2895831213384 -->\n",
       "<g class=\"node\" id=\"node16\"><title>2895831213384</title>\n",
       "<polygon fill=\"none\" points=\"39.5,-73.5 39.5,-109.5 169.5,-109.5 169.5,-73.5 39.5,-73.5\" stroke=\"black\"/>\n",
       "<text font-family=\"Times New Roman,serif\" font-size=\"14.00\" text-anchor=\"middle\" x=\"104.5\" y=\"-87.8\">dropout_3: Dropout</text>\n",
       "</g>\n",
       "<!-- 2895831214088&#45;&gt;2895831213384 -->\n",
       "<g class=\"edge\" id=\"edge15\"><title>2895831214088-&gt;2895831213384</title>\n",
       "<path d=\"M104.5,-146.313C104.5,-138.289 104.5,-128.547 104.5,-119.569\" fill=\"none\" stroke=\"black\"/>\n",
       "<polygon fill=\"black\" points=\"108,-119.529 104.5,-109.529 101,-119.529 108,-119.529\" stroke=\"black\"/>\n",
       "</g>\n",
       "<!-- 2895831259976 -->\n",
       "<g class=\"node\" id=\"node17\"><title>2895831259976</title>\n",
       "<polygon fill=\"none\" points=\"52.5,-0.5 52.5,-36.5 156.5,-36.5 156.5,-0.5 52.5,-0.5\" stroke=\"black\"/>\n",
       "<text font-family=\"Times New Roman,serif\" font-size=\"14.00\" text-anchor=\"middle\" x=\"104.5\" y=\"-14.8\">dense_1: Dense</text>\n",
       "</g>\n",
       "<!-- 2895831213384&#45;&gt;2895831259976 -->\n",
       "<g class=\"edge\" id=\"edge16\"><title>2895831213384-&gt;2895831259976</title>\n",
       "<path d=\"M104.5,-73.3129C104.5,-65.2895 104.5,-55.5475 104.5,-46.5691\" fill=\"none\" stroke=\"black\"/>\n",
       "<polygon fill=\"black\" points=\"108,-46.5288 104.5,-36.5288 101,-46.5289 108,-46.5288\" stroke=\"black\"/>\n",
       "</g>\n",
       "</g>\n",
       "</svg>"
      ],
      "text/plain": [
       "<IPython.core.display.SVG object>"
      ]
     },
     "execution_count": 18,
     "metadata": {},
     "output_type": "execute_result"
    }
   ],
   "source": [
    "from IPython.display import SVG\n",
    "from keras.utils.vis_utils import model_to_dot\n",
    "SVG(model_to_dot(model).create(prog='dot', format='svg'))"
   ]
  },
  {
   "cell_type": "code",
   "execution_count": 19,
   "metadata": {},
   "outputs": [
    {
     "name": "stdout",
     "output_type": "stream",
     "text": [
      "Epoch 1/10\n",
      "352/352 - 195s - loss: 1.7017 - accuracy: 0.3686 - val_loss: 1.2657 - val_accuracy: 0.5384\n",
      "Epoch 2/10\n",
      "352/352 - 200s - loss: 1.1570 - accuracy: 0.5826 - val_loss: 0.9492 - val_accuracy: 0.6618\n",
      "Epoch 3/10\n",
      "352/352 - 202s - loss: 0.9397 - accuracy: 0.6658 - val_loss: 0.8641 - val_accuracy: 0.7008\n",
      "Epoch 4/10\n",
      "352/352 - 201s - loss: 0.8069 - accuracy: 0.7160 - val_loss: 0.7220 - val_accuracy: 0.7556\n",
      "Epoch 5/10\n",
      "352/352 - 198s - loss: 0.7027 - accuracy: 0.7520 - val_loss: 0.6931 - val_accuracy: 0.7658\n",
      "Epoch 6/10\n",
      "352/352 - 198s - loss: 0.6303 - accuracy: 0.7785 - val_loss: 0.6236 - val_accuracy: 0.7828\n",
      "Epoch 7/10\n",
      "352/352 - 198s - loss: 0.5696 - accuracy: 0.7999 - val_loss: 0.6179 - val_accuracy: 0.7914\n",
      "Epoch 8/10\n",
      "352/352 - 197s - loss: 0.5190 - accuracy: 0.8156 - val_loss: 0.6086 - val_accuracy: 0.7994\n",
      "Epoch 9/10\n",
      "352/352 - 199s - loss: 0.4743 - accuracy: 0.8331 - val_loss: 0.5737 - val_accuracy: 0.8094\n",
      "Epoch 10/10\n",
      "352/352 - 198s - loss: 0.4313 - accuracy: 0.8480 - val_loss: 0.5514 - val_accuracy: 0.8210\n"
     ]
    }
   ],
   "source": [
    "# 開始訓練\n",
    "model.compile(loss='categorical_crossentropy', optimizer='adam', metrics=['accuracy'])\n",
    "train_history = model.fit(x=x_train_shaped, y=y_train_cat, validation_split=0.1, epochs=10, batch_size=128, verbose=2)"
   ]
  },
  {
   "cell_type": "code",
   "execution_count": 20,
   "metadata": {},
   "outputs": [
    {
     "data": {
      "text/plain": [
       "<matplotlib.legend.Legend at 0x2a23975c108>"
      ]
     },
     "execution_count": 20,
     "metadata": {},
     "output_type": "execute_result"
    }
   ],
   "source": [
    "plt.plot(train_history.history['loss'])\n",
    "plt.plot(train_history.history['val_loss'])\n",
    "plt.title('Loss Graph')\n",
    "plt.legend(['loss', 'val_loss'], loc='upper left')"
   ]
  },
  {
   "cell_type": "code",
   "execution_count": 21,
   "metadata": {},
   "outputs": [
    {
     "name": "stdout",
     "output_type": "stream",
     "text": [
      "313/313 [==============================] - 10s 32ms/step - loss: 0.5802 - accuracy: 0.8075\n"
     ]
    },
    {
     "data": {
      "text/plain": [
       "[0.580191969871521, 0.8075000047683716]"
      ]
     },
     "execution_count": 21,
     "metadata": {},
     "output_type": "execute_result"
    }
   ],
   "source": [
    "model.evaluate(x_test_shaped, y_test_cat)"
   ]
  }
 ],
 "metadata": {
  "kernelspec": {
   "display_name": "Python 3",
   "language": "python",
   "name": "python3"
  },
  "language_info": {
   "codemirror_mode": {
    "name": "ipython",
    "version": 3
   },
   "file_extension": ".py",
   "mimetype": "text/x-python",
   "name": "python",
   "nbconvert_exporter": "python",
   "pygments_lexer": "ipython3",
   "version": "3.7.7"
  }
 },
 "nbformat": 4,
 "nbformat_minor": 4
}
