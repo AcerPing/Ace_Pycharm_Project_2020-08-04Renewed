{
 "cells": [
  {
   "cell_type": "markdown",
   "metadata": {},
   "source": [
    "<H2>Step1. 資料預處理</H2>"
   ]
  },
  {
   "cell_type": "code",
   "execution_count": 1,
   "metadata": {},
   "outputs": [],
   "source": [
    "from keras.layers import Input\n",
    "from keras.models import Model, Sequential\n",
    "from keras.layers.core import Reshape, Dense, Dropout, Flatten\n",
    "from keras.layers import Embedding, BatchNormalization\n",
    "from keras.datasets import mnist\n",
    "import numpy as np\n",
    "\n",
    "%matplotlib inline"
   ]
  },
  {
   "cell_type": "code",
   "execution_count": 2,
   "metadata": {},
   "outputs": [
    {
     "data": {
      "text/plain": [
       "(60000, 28, 28)"
      ]
     },
     "execution_count": 2,
     "metadata": {},
     "output_type": "execute_result"
    }
   ],
   "source": [
    "(x_train, y_train),(x_test, y_test) = mnist.load_data()\n",
    "x_train.shape"
   ]
  },
  {
   "cell_type": "code",
   "execution_count": 3,
   "metadata": {},
   "outputs": [],
   "source": [
    "from keras.utils import np_utils\n",
    "x_train_shaped = (x_train.reshape(60000, 784).astype('float32') - 127.5)/127.5 # reshape讓他從32*32變成784*1的一維陣列，# 並標準化到-1~1 區間\n",
    "x_test_shaped = (x_test.reshape(10000, 784).astype('float32') - 127.5)/127.5"
   ]
  },
  {
   "cell_type": "markdown",
   "metadata": {},
   "source": [
    "<H2>Step2. 建立創作家</H2>"
   ]
  },
  {
   "cell_type": "code",
   "execution_count": 4,
   "metadata": {},
   "outputs": [
    {
     "name": "stdout",
     "output_type": "stream",
     "text": [
      "Model: \"sequential\"\n",
      "_________________________________________________________________\n",
      "Layer (type)                 Output Shape              Param #   \n",
      "=================================================================\n",
      "dense (Dense)                (None, 256)               25856     \n",
      "_________________________________________________________________\n",
      "batch_normalization (BatchNo (None, 256)               1024      \n",
      "_________________________________________________________________\n",
      "dense_1 (Dense)              (None, 512)               131584    \n",
      "_________________________________________________________________\n",
      "batch_normalization_1 (Batch (None, 512)               2048      \n",
      "_________________________________________________________________\n",
      "dense_2 (Dense)              (None, 784)               402192    \n",
      "=================================================================\n",
      "Total params: 562,704\n",
      "Trainable params: 561,168\n",
      "Non-trainable params: 1,536\n",
      "_________________________________________________________________\n"
     ]
    }
   ],
   "source": [
    "random_dim = 100\n",
    "generator = Sequential()\n",
    "generator.add(Dense(256, input_dim=random_dim, activation='relu', kernel_initializer='random_normal'))\n",
    "generator.add(BatchNormalization())\n",
    "generator.add(Dense(512, activation='relu', kernel_initializer='random_normal'))\n",
    "generator.add(BatchNormalization())\n",
    "generator.add(Dense(784, activation='tanh'))\n",
    "generator.compile(loss='binary_crossentropy', optimizer='adam')\n",
    "generator.summary()"
   ]
  },
  {
   "cell_type": "markdown",
   "metadata": {},
   "source": [
    "<H2>Step3. 建立鑑賞家</H2>"
   ]
  },
  {
   "cell_type": "code",
   "execution_count": 5,
   "metadata": {},
   "outputs": [
    {
     "name": "stdout",
     "output_type": "stream",
     "text": [
      "Model: \"sequential_1\"\n",
      "_________________________________________________________________\n",
      "Layer (type)                 Output Shape              Param #   \n",
      "=================================================================\n",
      "dense_3 (Dense)              (None, 1024)              803840    \n",
      "_________________________________________________________________\n",
      "dropout (Dropout)            (None, 1024)              0         \n",
      "_________________________________________________________________\n",
      "dense_4 (Dense)              (None, 512)               524800    \n",
      "_________________________________________________________________\n",
      "dropout_1 (Dropout)          (None, 512)               0         \n",
      "_________________________________________________________________\n",
      "dense_5 (Dense)              (None, 256)               131328    \n",
      "_________________________________________________________________\n",
      "dropout_2 (Dropout)          (None, 256)               0         \n",
      "_________________________________________________________________\n",
      "dense_6 (Dense)              (None, 1)                 257       \n",
      "=================================================================\n",
      "Total params: 1,460,225\n",
      "Trainable params: 1,460,225\n",
      "Non-trainable params: 0\n",
      "_________________________________________________________________\n"
     ]
    }
   ],
   "source": [
    "discriminator = Sequential()\n",
    "discriminator.add(Dense(1024, input_dim=784, activation='relu', kernel_initializer='random_normal'))\n",
    "discriminator.add(Dropout(0.25))\n",
    "discriminator.add(Dense(512, activation='relu', kernel_initializer='random_normal'))\n",
    "discriminator.add(Dropout(0.25))\n",
    "discriminator.add(Dense(256, activation='relu', kernel_initializer='random_normal'))\n",
    "discriminator.add(Dropout(0.25))\n",
    "discriminator.add(Dense(1, activation='sigmoid'))\n",
    "discriminator.compile(loss='binary_crossentropy', optimizer='adam')\n",
    "discriminator.summary()"
   ]
  },
  {
   "cell_type": "markdown",
   "metadata": {},
   "source": [
    "<H2>Step4. 組合網路</H2>"
   ]
  },
  {
   "cell_type": "code",
   "execution_count": 6,
   "metadata": {},
   "outputs": [
    {
     "name": "stdout",
     "output_type": "stream",
     "text": [
      "Model: \"model\"\n",
      "_________________________________________________________________\n",
      "Layer (type)                 Output Shape              Param #   \n",
      "=================================================================\n",
      "input_1 (InputLayer)         [(None, 100)]             0         \n",
      "_________________________________________________________________\n",
      "sequential (Sequential)      (None, 784)               562704    \n",
      "_________________________________________________________________\n",
      "sequential_1 (Sequential)    (None, 1)                 1460225   \n",
      "=================================================================\n",
      "Total params: 2,022,929\n",
      "Trainable params: 561,168\n",
      "Non-trainable params: 1,461,761\n",
      "_________________________________________________________________\n"
     ]
    }
   ],
   "source": [
    "discriminator.trainable = False #只是訓練創作家，所以要把鑑賞家的參數固定住，直接設置trainable = False即可。\n",
    "gan_input = Input(shape=(random_dim,))\n",
    "x = generator(gan_input)\n",
    "gan_output = discriminator(x)\n",
    "gan = Model(inputs=gan_input, outputs=gan_output)\n",
    "gan.compile(loss='binary_crossentropy', optimizer='adam')\n",
    "gan.summary()"
   ]
  },
  {
   "cell_type": "code",
   "execution_count": 7,
   "metadata": {},
   "outputs": [
    {
     "name": "stdout",
     "output_type": "stream",
     "text": [
      "--------------- epoch 0 ---------------\n",
      "Discriminator Loss: 0.6999029517173767\n",
      "Generator loss: 0.031919214874506\n",
      "--------------- epoch 1 ---------------\n",
      "Discriminator Loss: 0.6925696432590485\n",
      "Generator loss: 0.01904514618217945\n",
      "--------------- epoch 2 ---------------\n",
      "Discriminator Loss: 0.6936615705490112\n",
      "Generator loss: 0.016420193016529083\n",
      "--------------- epoch 3 ---------------\n",
      "Discriminator Loss: 0.6934278011322021\n",
      "Generator loss: 0.011992765590548515\n",
      "--------------- epoch 4 ---------------\n",
      "Discriminator Loss: 0.6930077970027924\n",
      "Generator loss: 0.01623130403459072\n",
      "--------------- epoch 5 ---------------\n",
      "Discriminator Loss: 0.693705677986145\n",
      "Generator loss: 0.013450834900140762\n",
      "--------------- epoch 6 ---------------\n",
      "Discriminator Loss: 0.6933747828006744\n",
      "Generator loss: 0.011433199979364872\n",
      "--------------- epoch 7 ---------------\n",
      "Discriminator Loss: 0.6932129859924316\n",
      "Generator loss: 0.010425141081213951\n",
      "--------------- epoch 8 ---------------\n",
      "Discriminator Loss: 0.693259209394455\n",
      "Generator loss: 0.009862812235951424\n",
      "--------------- epoch 9 ---------------\n",
      "Discriminator Loss: 0.6931779384613037\n",
      "Generator loss: 0.010574080981314182\n",
      "--------------- epoch 10 ---------------\n",
      "Discriminator Loss: 0.6931286752223969\n",
      "Generator loss: 0.00982530228793621\n",
      "--------------- epoch 11 ---------------\n",
      "Discriminator Loss: 0.6927211582660675\n",
      "Generator loss: 0.012479126453399658\n",
      "--------------- epoch 12 ---------------\n",
      "Discriminator Loss: 0.6931687593460083\n",
      "Generator loss: 0.012547500431537628\n",
      "--------------- epoch 13 ---------------\n",
      "Discriminator Loss: 0.6932218372821808\n",
      "Generator loss: 0.013641239143908024\n",
      "--------------- epoch 14 ---------------\n",
      "Discriminator Loss: 0.6931352019309998\n",
      "Generator loss: 0.020375985652208328\n",
      "--------------- epoch 15 ---------------\n",
      "Discriminator Loss: 0.6931646764278412\n",
      "Generator loss: 0.02134416066110134\n",
      "--------------- epoch 16 ---------------\n",
      "Discriminator Loss: 0.6931179165840149\n",
      "Generator loss: 0.018645912408828735\n",
      "--------------- epoch 17 ---------------\n",
      "Discriminator Loss: 0.6935554444789886\n",
      "Generator loss: 0.02821703441441059\n",
      "--------------- epoch 18 ---------------\n",
      "Discriminator Loss: 0.6931603848934174\n",
      "Generator loss: 0.032450199127197266\n",
      "--------------- epoch 19 ---------------\n",
      "Discriminator Loss: 0.6931604444980621\n",
      "Generator loss: 0.030351275578141212\n"
     ]
    }
   ],
   "source": [
    "batch_size = 200\n",
    "epoch_count = 20\n",
    "d_loss_list = []\n",
    "g_loss_list = []\n",
    "for epoch in range(0, epoch_count):\n",
    "    for batch_count in range(0, 300):\n",
    "        idx = np.random.randint(0, x_train.shape[0], batch_size)\n",
    "        imgs = x_train_shaped[idx]\n",
    "        valid = np.ones((batch_size, 1))\n",
    "        fake = np.zeros((batch_size, 1))\n",
    "        # 步驟0: 讓創作家製造出fake image\n",
    "        noise = np.random.randint(0, 1, (batch_size, random_dim))\n",
    "        gen_imgs = generator.predict(noise)\n",
    "        discriminator.trainable = True\n",
    "        # 步驟1: 讓鑑賞家鑑賞對的image\n",
    "        d_loss_real = discriminator.train_on_batch(imgs, valid)\n",
    "        # 步驟2: 讓鑑賞家鑑賞錯的image\n",
    "        d_loss_fake = discriminator.train_on_batch(imgs, fake)\n",
    "        d_loss = (d_loss_real + d_loss_fake) / 2\n",
    "        discriminator.trainable = False\n",
    "        noise = np.random.normal(0, 1, (batch_size, random_dim))\n",
    "        # 步驟3: 訓練創作家的創作能力\n",
    "        g_loss = gan.train_on_batch(noise, valid)\n",
    "    dash = '-'*15\n",
    "    print(dash, 'epoch', epoch, dash)\n",
    "    print('Discriminator Loss:', d_loss)\n",
    "    print('Generator loss:', g_loss)\n",
    "    d_loss_list.append(d_loss)\n",
    "    g_loss_list.append(g_loss)"
   ]
  },
  {
   "cell_type": "markdown",
   "metadata": {},
   "source": [
    "<H2>Step5. 訓練結果</H2>"
   ]
  },
  {
   "cell_type": "code",
   "execution_count": 8,
   "metadata": {},
   "outputs": [],
   "source": [
    "import matplotlib.pyplot as plt\n",
    "%matplotlib inline"
   ]
  },
  {
   "cell_type": "code",
   "execution_count": 9,
   "metadata": {},
   "outputs": [
    {
     "data": {
      "image/png": "[encoded data removed]",
      "text/plain": [
       "<Figure size 1008x1008 with 5 Axes>"
      ]
     },
     "metadata": {
      "needs_background": "light"
     },
     "output_type": "display_data"
    }
   ],
   "source": [
    "examples = 5\n",
    "noise = np.random.normal(0, 1, (examples, random_dim))\n",
    "gen_imgs = generator.predict(noise)\n",
    "\n",
    "gen_imgs = 0.5*gen_imgs+0.5\n",
    "gen_imgs = gen_imgs.reshape(examples, 28, 28)\n",
    "plt.figure(figsize=(14,14))\n",
    "for i in range(0, examples):\n",
    "    plt.subplot(1, examples, 1+i)\n",
    "    plt.imshow(gen_imgs[i], cmap='gray')"
   ]
  },
  {
   "cell_type": "code",
   "execution_count": null,
   "metadata": {},
   "outputs": [],
   "source": []
  }
 ],
 "metadata": {
  "kernelspec": {
   "display_name": "Python 3",
   "language": "python",
   "name": "python3"
  },
  "language_info": {
   "codemirror_mode": {
    "name": "ipython",
    "version": 3
   },
   "file_extension": ".py",
   "mimetype": "text/x-python",
   "name": "python",
   "nbconvert_exporter": "python",
   "pygments_lexer": "ipython3",
   "version": "3.7.7"
  }
 },
 "nbformat": 4,
 "nbformat_minor": 4
}
