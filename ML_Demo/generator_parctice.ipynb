{
 "cells": [
  {
   "cell_type": "code",
   "execution_count": 1,
   "metadata": {},
   "outputs": [],
   "source": [
    "# TODO: 定義建立生成器\n",
    "def test():\n",
    "    print('階段一')\n",
    "    yield 5\n",
    "    print('階段二')\n",
    "    yield 10\n",
    "# TODO: 呼叫並回傳生成器\n",
    "gen = test() # 得到生成器\n",
    "\n",
    "# # TODO:〔方法一〕利用next\n",
    "# print(next(gen))\n",
    "# # print('----------------')\n",
    "# # print(next(gen))\n",
    "# # TODO:〔方法二〕搭配 for 迴圈中使用\n",
    "# # for 變數名稱 in 生成器: 將生成器產生的資料逐一取出\n",
    "# # for d in gen: print(d)"
   ]
  },
  {
   "cell_type": "code",
   "execution_count": 2,
   "metadata": {},
   "outputs": [
    {
     "name": "stdout",
     "output_type": "stream",
     "text": [
      "階段一\n",
      "5\n",
      "----------------\n",
      "階段二\n",
      "10\n"
     ]
    }
   ],
   "source": [
    "print(next(gen))\n",
    "print('----------------')\n",
    "print(next(gen))"
   ]
  },
  {
   "cell_type": "code",
   "execution_count": 3,
   "metadata": {},
   "outputs": [],
   "source": [
    "# TODO:〔方法二〕搭配 for 迴圈中使用\n",
    "# for 變數名稱 in 生成器: 將生成器產生的資料逐一取出\n",
    "for d in gen: print(d)"
   ]
  },
  {
   "cell_type": "code",
   "execution_count": 1,
   "metadata": {},
   "outputs": [],
   "source": [
    "def generatorEven(maxnumber):\n",
    "    number = 0\n",
    "    while number <= maxnumber:\n",
    "        yield 2 * number\n",
    "        number += 1\n",
    "Even_Generator = generatorEven(20)\n"
   ]
  },
  {
   "cell_type": "code",
   "execution_count": 2,
   "metadata": {},
   "outputs": [
    {
     "name": "stdout",
     "output_type": "stream",
     "text": [
      "0 0\n",
      "1 2\n",
      "2 4\n",
      "3 6\n",
      "4 8\n",
      "5 10\n",
      "6 12\n",
      "7 14\n",
      "8 16\n",
      "9 18\n"
     ]
    }
   ],
   "source": [
    "for i in range(10): print(i, next(Even_Generator))"
   ]
  }
 ],
 "metadata": {
  "kernelspec": {
   "display_name": "Python 3",
   "language": "python",
   "name": "python3"
  },
  "language_info": {
   "codemirror_mode": {
    "name": "ipython",
    "version": 3
   },
   "file_extension": ".py",
   "mimetype": "text/x-python",
   "name": "python",
   "nbconvert_exporter": "python",
   "pygments_lexer": "ipython3",
   "version": "3.7.7"
  }
 },
 "nbformat": 4,
 "nbformat_minor": 4
}
