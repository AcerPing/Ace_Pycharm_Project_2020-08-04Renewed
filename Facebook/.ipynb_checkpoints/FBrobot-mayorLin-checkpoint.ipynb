{
 "cells": [
  {
   "cell_type": "markdown",
   "metadata": {},
   "source": [
    "## 載用套件"
   ]
  },
  {
   "cell_type": "code",
   "execution_count": 1,
   "metadata": {},
   "outputs": [],
   "source": [
    "import sys\n",
    "\n",
    "from bs4 import BeautifulSoup\n",
    "from selenium import webdriver\n",
    "from selenium.webdriver.support.ui import WebDriverWait\n",
    "from selenium.webdriver.support import expected_conditions as EC\n",
    "from selenium.webdriver.common.by import By\n",
    "from selenium.webdriver import Chrome\n",
    "\n",
    "# import re\n",
    "import math\n",
    "import pandas as pd\n",
    "\n",
    "from datetime import datetime\n",
    "\n",
    "import matplotlib.pyplot as plt\n",
    "import time"
   ]
  },
  {
   "cell_type": "markdown",
   "metadata": {},
   "source": [
    "## 自訂函式庫"
   ]
  },
  {
   "cell_type": "code",
   "execution_count": 2,
   "metadata": {},
   "outputs": [],
   "source": [
    "def Get_Info ( present_text = 'Please Enter Info Below', window_title = 'Login Information'):\n",
    "    ModuleObj = {'Status':'fail',\n",
    "                 'Custom_Err_Msg': '',\n",
    "                 'uid': '',\n",
    "                 'upw': '',\n",
    "                 'Error': {'e_detail': '', 'e_fileName': '', 'e_lineNume': '', 'e_funcName': ''}}\n",
    "    try:\n",
    "        import tkinter as Tkinter\n",
    "        window = Tkinter.Tk()\n",
    "        window.geometry(\"300x200\")\n",
    "        window.title(window_title)\n",
    "        window.rowconfigure(7, weight=1)\n",
    "        window.columnconfigure(3, weight=1)\n",
    "        mystring1 = Tkinter.StringVar(window)\n",
    "        mystring2 = Tkinter.StringVar(window)\n",
    "        def getvalue():\n",
    "            window.destroy()\n",
    "        def showvalue():\n",
    "            if entry2.config()['show'][4] == '*':\n",
    "                entry2.config(show=\"\")\n",
    "            elif entry2.config()['show'][4] == '':\n",
    "                entry2.config(show=\"*\")\n",
    "        \n",
    "        main_red = \"#990000\"\n",
    "        window.config(bg=main_red, relief=Tkinter.RIDGE)\n",
    "        \n",
    "        frame0 = Tkinter.Frame(window, bg='black')\n",
    "        frame0.pack(fill=Tkinter.X)\n",
    "        Label_Main = Tkinter.Label(frame0, text = present_text, font=('Calbri', 12, 'bold'), bg='black', fg='white')\n",
    "        Label_Main.config(anchor=Tkinter.CENTER)\n",
    "        Label_Main.pack(side = Tkinter.TOP, padx=15, pady=4)\n",
    "        # Label_Main.grid(column=0, row=0, columnspan=2)\n",
    "        \n",
    "        frame_Break_1 = Tkinter.Frame(window, bg=main_red)\n",
    "        frame_Break_1.pack(fill=Tkinter.X)\n",
    "        Label_Break_1 = Tkinter.Label(frame_Break_1, text='', bg=main_red)\n",
    "        Label_Break_1.pack(expand=True)\n",
    "        # Label_Break_1.grid(column=1, row=1, columnspan=3)\n",
    "        \n",
    "        frame1 = Tkinter.Frame(window, bg=main_red)\n",
    "        frame1.pack(fill=Tkinter.X)\n",
    "        Label1 = Tkinter.Label(frame1, text='Username:', width=8, bg=main_red, fg='white')\n",
    "        Label1.pack(side=Tkinter.LEFT, padx=10, pady=5)\n",
    "        # label1.grid(column=0, row=2)\n",
    "        entry1 = Tkinter.Entry(frame1, textvariable=mystring1, relief=Tkinter.RIDGE, bd=5)\n",
    "        entry1.pack(fill=Tkinter.X, padx=5)\n",
    "        # entry1.grid(column=1, row=2)\n",
    "        \n",
    "        # frame_Break_2 = Tkinter.Frame(window, bg=main_red, height=1)\n",
    "        # frame_Break_2.pack(fill=Tkinter.X)\n",
    "        # Label_Break_2 = Tkinter.Label(frame_Break_2, text='', height=1, bg=main_red)\n",
    "        # Label_Break_2.pack(expand=True)\n",
    "        \n",
    "        frame2 = Tkinter.Frame(window, bg=main_red)\n",
    "        frame2.pack(fill=Tkinter.X)\n",
    "        Label2 = Tkinter.Label(frame2, text='Password:', width=8, bg=main_red, fg='white')\n",
    "        Label2.pack(side=Tkinter.LEFT, padx=10, pady=5)\n",
    "        # label2.grid(column=0, row=4)\n",
    "        entry2 = Tkinter.Entry(frame2, textvariable=mystring2, relief=Tkinter.RIDGE, bd=5, show=\"*\")\n",
    "        entry2.pack(fill=Tkinter.X, padx=5)\n",
    "        # entry2.grid(column=1, row=2)\n",
    "        \n",
    "        # Label_Break_3 = Tkinter.Label(window, text = '') \n",
    "        # Label_Break_3.grid(column=0, row=5, columnspan=3)\n",
    "        \n",
    "        frame3 = Tkinter.Frame(window, bg=main_red)\n",
    "        frame3.pack(fill=Tkinter.X, expand=True)\n",
    "        btn_Confirm = Tkinter.Button(frame3, text='Submit', command=getvalue, bd=5, bg='#006699',  fg='white')\n",
    "        btn_Confirm.pack(side=Tkinter.LEFT, padx=15, expand=True)\n",
    "        btn_Cancel = Tkinter.Button(frame3, text='Check', command=showvalue, bd=5, bg='#ffcc00')\n",
    "        btn_Cancel.pack(side=Tkinter.RIGHT, padx=15, expand=True)\n",
    "        # btn.grid(column=0, row=6, columnspan=3)\n",
    "        \n",
    "        window.lift()\n",
    "        window.attributes('-topmost', True)\n",
    "        window.after_idle(window.attributes, '-topmost', False)\n",
    "        window.mainloop()\n",
    "        \n",
    "        ModuleObj['uid'] = mystring1.get()\n",
    "        ModuleObj['upw'] = mystring2.get()\n",
    "        \n",
    "        if ModuleObj['uid'] == '' or ModuleObj['upw'] == '':\n",
    "            ModuleObj['Custom_Err_Msg'] = 'Data entry not correct, cannot be blank.'\n",
    "            raise Exception\n",
    "        \n",
    "        ModuleObj['Status'] = 'success'\n",
    "        return ModuleObj\n",
    "\n",
    "    except Exception as e:\n",
    "        if ModuleObj['Custom_Err_Msg'] == '':\n",
    "            # ModuleObj['Custom_Err_Msg'] = str(e)\n",
    "            ModuleObj['Error'] = e\n",
    "        # print(ModuleObj['Custom_Err_Msg'])\n",
    "        return ModuleObj"
   ]
  },
  {
   "cell_type": "markdown",
   "metadata": {},
   "source": [
    "## 帳號密碼輸入"
   ]
  },
  {
   "cell_type": "code",
   "execution_count": 3,
   "metadata": {},
   "outputs": [
    {
     "name": "stdout",
     "output_type": "stream",
     "text": [
      "Get_Info ModuleObj = success\n"
     ]
    }
   ],
   "source": [
    "uid1, upw1 = '', ''\n",
    "if uid1 == '' or upw1 == '':\n",
    "    ModuleObj =  Get_Info('Please Enter Maker Info.', 'User Information')\n",
    "    if ModuleObj['Status'] == 'success':\n",
    "        print('Get_Info ModuleObj = ' + ModuleObj['Status'])\n",
    "        uid1 = ModuleObj['uid']\n",
    "        upw1 = ModuleObj['upw']\n",
    "    else:\n",
    "        print('Get_Info ModuleObj = ' + ModuleObj['Status'])\n",
    "        if ModuleObj['Custom_Err_Msg'] == '':\n",
    "            e = ModuleObj['Error']\n",
    "            Custom_Err_Msg = ErrorMessenger(e)\n",
    "        else:\n",
    "            Custom_Err_Msg = ModuleObj['Custom_Err_Msg']\n",
    "        raise Exception"
   ]
  },
  {
   "cell_type": "markdown",
   "metadata": {},
   "source": [
    "## 執行webdriver"
   ]
  },
  {
   "cell_type": "code",
   "execution_count": 4,
   "metadata": {},
   "outputs": [],
   "source": [
    "driver = Chrome(\"D:\\Python_Summarize\\Python_Training\\chromedriver.exe\") #開啟chrome瀏覽器\n",
    "url = \"https://www.facebook.com\"\n",
    "driver.get(url) #打開網址"
   ]
  },
  {
   "cell_type": "code",
   "execution_count": 5,
   "metadata": {},
   "outputs": [],
   "source": [
    "driver.find_element_by_id(\"email\").send_keys(str(uid1))\n",
    "driver.find_element_by_id(\"pass\").send_keys(str(upw1))\n",
    "driver.find_element_by_name(\"login\").click()"
   ]
  },
  {
   "cell_type": "code",
   "execution_count": null,
   "metadata": {},
   "outputs": [],
   "source": [
    "time.sleep(5)\n",
    "WebDriverWait(driver, 5).until(EC.element_to_be_clickable((By.XPATH, \"//div[@aria-label='Facebook']\"))) "
   ]
  },
  {
   "cell_type": "markdown",
   "metadata": {},
   "source": [
    "## 取得所有回應"
   ]
  },
  {
   "cell_type": "code",
   "execution_count": null,
   "metadata": {},
   "outputs": [],
   "source": [
    "#進入網址\n",
    "url='https://www.facebook.com/taiwango0527/posts/2352312041562083?__xts__[0]=68.ARA0gGpov_pCeqeqBwsqmqke_CO0Eo48xv3N_L3_8NwotpJ4nnP9pnyXFBXax_VJ4Mckk339KinMIN0ySWMScKnhlwCTuP9VlaZMtAGfwIEgX989bcIZMygOz9CCo0clvT--ITekqv1rpF1JBxAtYNMxIQ3aK8kYW1QuzyXhCCBytcHPTcMGN8lT2w_GKMv11GeEnAXgDhIbyhIAzC0syWnRYPSmPGtLEtpBYF8OY3k5IDWa7gftX_MrEN6SK85FSVJ1zK0KQCl6UeW6k1TQx9VttnJKFONLBncIPuT16wjQD2gULqR_27YX65gUkMuEtW7FL9snPFhQFWCX9CBiKeAKAg&__tn__=-R'\n",
    "driver.get(url)"
   ]
  },
  {
   "cell_type": "code",
   "execution_count": null,
   "metadata": {},
   "outputs": [],
   "source": [
    "driver.implicitly_wait(20)\n",
    "WebDriverWait(driver, 5).until(EC.element_to_be_clickable((By.XPATH, \"//div[@aria-label='Facebook']\"))) "
   ]
  },
  {
   "cell_type": "code",
   "execution_count": null,
   "metadata": {},
   "outputs": [],
   "source": [
    "driver.implicitly_wait(20)\n",
    "while True:\n",
    "    try:\n",
    "        elements = driver.find_elements_by_tag_name('span')\n",
    "        for element in elements:\n",
    "            # print(element.text)\n",
    "            if element.text.strip() == '最相關':\n",
    "                #element.click()\n",
    "                driver.execute_script(\"arguments[0].click();\", element)\n",
    "                second_elements = element.find_elements_by_xpath(\"//div[@role='menuitem']\")\n",
    "                #second_elements[2].click()\n",
    "                driver.execute_script(\"arguments[0].click();\", second_elements[2])\n",
    "        break\n",
    "    except keyboardinterrupt:\n",
    "        sys.exit(1)\n",
    "    except: \n",
    "        print('continue')\n",
    "        continue"
   ]
  },
  {
   "cell_type": "code",
   "execution_count": null,
   "metadata": {},
   "outputs": [],
   "source": [
    "driver.implicitly_wait(20)\n",
    "article = WebDriverWait(driver, 5).until(EC.element_to_be_clickable((By.XPATH, \"//div[@aria-posinset='1']\"))) \n",
    "print(article)"
   ]
  },
  {
   "cell_type": "code",
   "execution_count": null,
   "metadata": {},
   "outputs": [],
   "source": [
    "while True:\n",
    "    try:\n",
    "        elements = article.find_elements_by_tag_name('span')\n",
    "        for element in elements:\n",
    "            print(element.text)\n",
    "            if element.text.strip() == '查看更多留言':\n",
    "                driver.execute_script(\"arguments[0].click();\", element)\n",
    "        break\n",
    "    except: \n",
    "        print('continue')\n",
    "        continue\n"
   ]
  },
  {
   "cell_type": "code",
   "execution_count": null,
   "metadata": {},
   "outputs": [],
   "source": []
  },
  {
   "cell_type": "code",
   "execution_count": null,
   "metadata": {},
   "outputs": [],
   "source": []
  },
  {
   "cell_type": "code",
   "execution_count": null,
   "metadata": {},
   "outputs": [],
   "source": []
  },
  {
   "cell_type": "code",
   "execution_count": null,
   "metadata": {},
   "outputs": [],
   "source": []
  },
  {
   "cell_type": "code",
   "execution_count": null,
   "metadata": {},
   "outputs": [],
   "source": [
    "print('程式結束')\n"
   ]
  },
  {
   "cell_type": "code",
   "execution_count": null,
   "metadata": {},
   "outputs": [],
   "source": [
    "driver.refresh()"
   ]
  },
  {
   "cell_type": "code",
   "execution_count": null,
   "metadata": {},
   "outputs": [],
   "source": [
    "# driver.implicitly_wait(20)\n",
    "# elements = driver.find_elements_by_tag_name('span')\n",
    "\n",
    "# for i in range(len(elements)):\n",
    "#     if elements[i].text.strip() == '最相關' and elements[i+1].text.strip() != '朋友的留言和獲得最多互動的留言會顯示在最上方。':\n",
    "#         elements[i].click()\n",
    "\n",
    "\n",
    "# for element in elements:\n",
    "#     try:\n",
    "#         #print(element.text)\n",
    "#         if element.text.strip() == '最相關':\n",
    "#             element.click()\n",
    "#             second_elements = element.find_elements_by_xpath(\"//div[@role='menuitem']\")\n",
    "#             second_elements[2].click()\n",
    "#             #for second_element in second_elements:\n",
    "#                 #print(second_element.text)\n",
    "#                 #if second_element.text == '所有留言': second_element.click()\n",
    "#     except: \n",
    "#         print(sys.exc_info())\n",
    "#         break\n",
    "#         #continue\n",
    "\n",
    "            \n",
    "print('程式結束')"
   ]
  },
  {
   "cell_type": "code",
   "execution_count": null,
   "metadata": {
    "scrolled": false
   },
   "outputs": [],
   "source": [
    "#顯示所有留言\n",
    "# element = driver.find_elements_by_class_name('_2pm3')\n",
    "# element[0].click()\n",
    "\n",
    "# element = driver.find_elements_by_class_name('_1ojr')\n",
    "# element[2].click()\n",
    "# raise Exception\n",
    "\n",
    "# driver.implicitly_wait(20)\n",
    "# elements = driver.find_elements_by_tag_name('span')\n",
    "\n",
    "# while True:\n",
    "#     try:\n",
    "#         for element in elements:\n",
    "#             print(element.text)\n",
    "#             if element.text.strip() == '最相關':\n",
    "#                 #element.click()\n",
    "#                 driver.execute_script(\"arguments[0].click();\", element)\n",
    "#                 second_elements = element.find_elements_by_xpath(\"//div[@role='menuitem']\")\n",
    "#                 #second_elements[2].click()\n",
    "#                 driver.execute_script(\"arguments[0].click();\", second_elements[2])\n",
    "#         else:break\n",
    "#     except: \n",
    "#         print('continue')\n",
    "#         continue\n",
    "\n",
    "\n",
    "# for element in elements:\n",
    "#     try:\n",
    "#         #print(element.text)\n",
    "#         if element.text.strip() == '最相關':\n",
    "#             #element.click()\n",
    "#             driver.execute_script(\"arguments[0].click();\", element)\n",
    "#             second_elements = element.find_elements_by_xpath(\"//div[@role='menuitem']\")\n",
    "#             #second_elements[2].click()\n",
    "#             driver.execute_script(\"arguments[0].click();\", second_elements[2])\n",
    "#             #for second_element in second_elements:\n",
    "#                 #print(second_element.text)\n",
    "#                 #if second_element.text == '所有留言': second_element.click()\n",
    "#     except: \n",
    "#         print(sys.exc_info())\n",
    "#         break\n",
    "#         #continue\n",
    "\n",
    "            \n",
    "print('程式結束')"
   ]
  },
  {
   "cell_type": "code",
   "execution_count": null,
   "metadata": {},
   "outputs": [],
   "source": [
    "# driver.implicitly_wait(20)\n",
    "# elements = driver.find_elements_by_tag_name('span')\n",
    "\n",
    "\n",
    "# try:\n",
    "#     for element in elements:\n",
    "#         # print(element.text)\n",
    "#         if element.text.strip() == '最相關':\n",
    "#             #element.click()\n",
    "#             driver.execute_script(\"arguments[0].click();\", element)\n",
    "#             second_elements = element.find_elements_by_xpath(\"//div[@role='menuitem']\")\n",
    "#             #second_elements[2].click()\n",
    "#             driver.execute_script(\"arguments[0].click();\", second_elements[2])\n",
    "# except: \n",
    "#     print('pass')\n",
    "#     pass"
   ]
  }
 ],
 "metadata": {
  "kernelspec": {
   "display_name": "Python 3",
   "language": "python",
   "name": "python3"
  },
  "language_info": {
   "codemirror_mode": {
    "name": "ipython",
    "version": 3
   },
   "file_extension": ".py",
   "mimetype": "text/x-python",
   "name": "python",
   "nbconvert_exporter": "python",
   "pygments_lexer": "ipython3",
   "version": "3.7.7"
  }
 },
 "nbformat": 4,
 "nbformat_minor": 1
}
