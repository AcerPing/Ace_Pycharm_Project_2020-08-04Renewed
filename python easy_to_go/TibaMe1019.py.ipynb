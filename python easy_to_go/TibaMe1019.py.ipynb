{
 "cells": [
  {
   "cell_type": "code",
   "execution_count": null,
   "metadata": {},
   "outputs": [
    {
     "data": {
      "text/plain": [
       "5"
      ]
     },
     "execution_count": 1,
     "metadata": {},
     "output_type": "execute_result"
    }
   ],
   "source": [
    "a = 3\n",
    "b = 2\n",
    "a + b"
   ]
  },
  {
   "cell_type": "code",
   "execution_count": 2,
   "metadata": {},
   "outputs": [
    {
     "data": {
      "text/plain": [
       "11"
      ]
     },
     "execution_count": 2,
     "metadata": {},
     "output_type": "execute_result"
    }
   ],
   "source": [
    "a + 8"
   ]
  },
  {
   "cell_type": "code",
   "execution_count": 3,
   "metadata": {},
   "outputs": [
    {
     "data": {
      "text/plain": [
       "12"
      ]
     },
     "execution_count": 3,
     "metadata": {},
     "output_type": "execute_result"
    }
   ],
   "source": [
    "a + 9"
   ]
  },
  {
   "cell_type": "code",
   "execution_count": 4,
   "metadata": {},
   "outputs": [
    {
     "data": {
      "text/plain": [
       "19"
      ]
     },
     "execution_count": 4,
     "metadata": {},
     "output_type": "execute_result"
    }
   ],
   "source": [
    "3 + 2 * 8"
   ]
  },
  {
   "cell_type": "code",
   "execution_count": 5,
   "metadata": {},
   "outputs": [
    {
     "data": {
      "text/plain": [
       "400.0"
      ]
     },
     "execution_count": 5,
     "metadata": {},
     "output_type": "execute_result"
    }
   ],
   "source": [
    "4E2"
   ]
  },
  {
   "cell_type": "code",
   "execution_count": 6,
   "metadata": {},
   "outputs": [
    {
     "data": {
      "text/plain": [
       "1"
      ]
     },
     "execution_count": 6,
     "metadata": {},
     "output_type": "execute_result"
    }
   ],
   "source": [
    "3 // 2"
   ]
  },
  {
   "cell_type": "code",
   "execution_count": 7,
   "metadata": {},
   "outputs": [
    {
     "data": {
      "text/plain": [
       "1.5"
      ]
     },
     "execution_count": 7,
     "metadata": {},
     "output_type": "execute_result"
    }
   ],
   "source": [
    "3 / 2"
   ]
  },
  {
   "cell_type": "code",
   "execution_count": 8,
   "metadata": {},
   "outputs": [
    {
     "data": {
      "text/plain": [
       "3"
      ]
     },
     "execution_count": 8,
     "metadata": {},
     "output_type": "execute_result"
    }
   ],
   "source": [
    "2 + 1 "
   ]
  },
  {
   "cell_type": "code",
   "execution_count": 9,
   "metadata": {},
   "outputs": [
    {
     "data": {
      "text/plain": [
       "1"
      ]
     },
     "execution_count": 9,
     "metadata": {},
     "output_type": "execute_result"
    }
   ],
   "source": [
    "2 - 1 "
   ]
  },
  {
   "cell_type": "code",
   "execution_count": 10,
   "metadata": {},
   "outputs": [
    {
     "data": {
      "text/plain": [
       "8"
      ]
     },
     "execution_count": 10,
     "metadata": {},
     "output_type": "execute_result"
    }
   ],
   "source": [
    " 2 ** 3"
   ]
  },
  {
   "cell_type": "code",
   "execution_count": 11,
   "metadata": {},
   "outputs": [
    {
     "data": {
      "text/plain": [
       "2"
      ]
     },
     "execution_count": 11,
     "metadata": {},
     "output_type": "execute_result"
    }
   ],
   "source": [
    "int(4 ** 0.5)"
   ]
  },
  {
   "cell_type": "code",
   "execution_count": 12,
   "metadata": {},
   "outputs": [
    {
     "data": {
      "text/plain": [
       "105"
      ]
     },
     "execution_count": 12,
     "metadata": {},
     "output_type": "execute_result"
    }
   ],
   "source": [
    "2+10*10+3"
   ]
  },
  {
   "cell_type": "code",
   "execution_count": 13,
   "metadata": {},
   "outputs": [
    {
     "data": {
      "text/plain": [
       "156"
      ]
     },
     "execution_count": 13,
     "metadata": {},
     "output_type": "execute_result"
    }
   ],
   "source": [
    "(2+10)*(10+3)"
   ]
  },
  {
   "cell_type": "code",
   "execution_count": 14,
   "metadata": {},
   "outputs": [
    {
     "name": "stdout",
     "output_type": "stream",
     "text": [
      "i'am using python as my coding language.\r\n",
      " 中文翻譯\n"
     ]
    },
    {
     "data": {
      "text/plain": [
       "'我使用python當作我coding的語言'"
      ]
     },
     "execution_count": 14,
     "metadata": {},
     "output_type": "execute_result"
    }
   ],
   "source": [
    "print('i\\'am using python as my coding language.\\r\\n 中文翻譯')\n",
    "\"我使用python當作我coding的語言\""
   ]
  },
  {
   "cell_type": "code",
   "execution_count": 15,
   "metadata": {},
   "outputs": [
    {
     "name": "stdout",
     "output_type": "stream",
     "text": [
      "python\n",
      "language\n"
     ]
    },
    {
     "data": {
      "text/plain": [
       "'egaugnal gnidoc ym si nohtyp'"
      ]
     },
     "execution_count": 15,
     "metadata": {},
     "output_type": "execute_result"
    }
   ],
   "source": [
    "a = \"python is my coding language\"\n",
    "print(a[0:6])\n",
    "print(a[-8:])\n",
    "a[::-1]"
   ]
  },
  {
   "cell_type": "code",
   "execution_count": 16,
   "metadata": {},
   "outputs": [
    {
     "name": "stdout",
     "output_type": "stream",
     "text": [
      "c++ is my coding language\n",
      "PYTHON IS MY CODING LANGUAGEIN THE FUTURN, I WILL ALSO LEARN C++,ETC\n",
      "python is my coding languagein the futurn, i will also learn c++,etc\n"
     ]
    },
    {
     "data": {
      "text/plain": [
       "['python',\n",
       " 'is',\n",
       " 'my',\n",
       " 'coding',\n",
       " 'languageIn',\n",
       " 'the',\n",
       " 'futurn,',\n",
       " 'I',\n",
       " 'will',\n",
       " 'also',\n",
       " 'learn',\n",
       " 'c++,etc']"
      ]
     },
     "execution_count": 16,
     "metadata": {},
     "output_type": "execute_result"
    }
   ],
   "source": [
    "b = a.replace(\"python\",\"c++\")\n",
    "print(b)\n",
    "a = a + \"In the futurn, I will also learn c++,etc\"\n",
    "print(a.upper())\n",
    "print(a.lower())\n",
    "a.split()"
   ]
  },
  {
   "cell_type": "code",
   "execution_count": 17,
   "metadata": {},
   "outputs": [
    {
     "name": "stdout",
     "output_type": "stream",
     "text": [
      "Place my variable here String\n"
     ]
    }
   ],
   "source": [
    "#使用%s印出格式化的字串"
   ]
  },
  {
   "cell_type": "code",
   "execution_count": 18,
   "metadata": {},
   "outputs": [
    {
     "name": "stdout",
     "output_type": "stream",
     "text": [
      "Place my variable here 13.3\n"
     ]
    }
   ],
   "source": [
    "x = 13.3\n",
    "print(\"Place my variable here %s\"%(x))"
   ]
  },
  {
   "cell_type": "code",
   "execution_count": 19,
   "metadata": {},
   "outputs": [
    {
     "name": "stdout",
     "output_type": "stream",
     "text": [
      "Floating point number:13.14\n",
      "Floating point number:13.1450000000\n",
      "Floating point number:                   13.145\n"
     ]
    }
   ],
   "source": [
    "print(\"Floating point number:%1.2f\"%(13.145))\n",
    "print(\"Floating point number:%1.10f\"%(13.145))\n",
    "print(\"Floating point number:%25.3f\"%(13.145))"
   ]
  },
  {
   "cell_type": "code",
   "execution_count": 20,
   "metadata": {},
   "outputs": [
    {
     "name": "stdout",
     "output_type": "stream",
     "text": [
      "Here is  a number: 123.1. Here is a string: Hi\n",
      "Here is  a number: 123.1. Here is a string: 'Hi'\n"
     ]
    }
   ],
   "source": [
    "# %s是str()，%r是repr()，在python中皆可用作字串的轉換\n",
    "print(\"Here is  a number: %s. Here is a string: %s\" %(123.1,\"Hi\"))\n",
    "print(\"Here is  a number: %r. Here is a string: %r\" %(123.1,\"Hi\"))"
   ]
  },
  {
   "cell_type": "code",
   "execution_count": 21,
   "metadata": {},
   "outputs": [
    {
     "name": "stdout",
     "output_type": "stream",
     "text": [
      "\n",
      "\t this is a \t line with format \t\n",
      "\n",
      "\\n\\t this is a \\t line with format \\t\\n\n",
      "'\\n\\t this is a \\t line with format \\t\\n'\n"
     ]
    }
   ],
   "source": [
    "#帶有format的string\n",
    "raw = \"\\n\\t this is a \\t line with format \\t\\n\"\n",
    "print(raw)\n",
    "#使用r取得raw string\n",
    "raw = r\"\\n\\t this is a \\t line with format \\t\\n\"\n",
    "print(raw)\n",
    "#使用repr取得string中的表示\n",
    "raw = repr(\"\\n\\t this is a \\t line with format \\t\\n\")\n",
    "print(raw)"
   ]
  },
  {
   "cell_type": "code",
   "execution_count": 22,
   "metadata": {},
   "outputs": [
    {
     "name": "stdout",
     "output_type": "stream",
     "text": [
      "This is a string with an insert\n",
      "one:hi,Two:hi,Three:hi\n",
      "Object1:1,Object2:Two,Object3:12.3\n",
      "one:1,Two:2,Three:1\n"
     ]
    }
   ],
   "source": [
    "#使用.format()方法\n",
    "#根據樣式替代\n",
    "print(\"This is a string with an {p}\".format(p=\"insert\"))\n",
    "\n",
    "#根據樣式替代多字串\n",
    "print(\"one:{p},Two:{p},Three:{p}\".format(p=\"hi\"))\n",
    "\n",
    "#根據多樣式替代\n",
    "print(\"Object1:{a},Object2:{b},Object3:{c}\".format(a=1,b=\"Two\",c=12.3))\n",
    "\n",
    "#根據位置替代\n",
    "print(\"one:{0},Two:{1},Three:{0}\".format(1,2))"
   ]
  },
  {
   "cell_type": "code",
   "execution_count": 23,
   "metadata": {},
   "outputs": [
    {
     "name": "stdout",
     "output_type": "stream",
     "text": [
      "How are you?Cool\n"
     ]
    },
    {
     "data": {
      "text/plain": [
       "'Cool'"
      ]
     },
     "execution_count": 23,
     "metadata": {},
     "output_type": "execute_result"
    }
   ],
   "source": [
    "input(\"How are you?\")"
   ]
  },
  {
   "cell_type": "code",
   "execution_count": 24,
   "metadata": {},
   "outputs": [
    {
     "name": "stdout",
     "output_type": "stream",
     "text": [
      "9\n",
      "[0, 1, 2, 3, 4, 5, 6, 7, 8]\n",
      "[0, 1, 2, 3, 4, 5, 6, 7, 8, 10]\n",
      "[0, 1, 2, 3, 4, 5, 6, 7, 8, 9, 10]\n",
      "[10, 9, 8, 7, 6, 5, 4, 3, 2, 1, 0]\n"
     ]
    }
   ],
   "source": [
    "a = [0,1,2,3,4,5,6,7,8,9]\n",
    "print(a.pop())\n",
    "print(a)\n",
    "a.append(10)\n",
    "print(a)\n",
    "a.append(9)\n",
    "a.sort()\n",
    "print(a)\n",
    "a.reverse()\n",
    "print(a)"
   ]
  },
  {
   "cell_type": "code",
   "execution_count": 25,
   "metadata": {},
   "outputs": [
    {
     "data": {
      "text/plain": [
       "False"
      ]
     },
     "execution_count": 25,
     "metadata": {},
     "output_type": "execute_result"
    }
   ],
   "source": [
    "a = list(\"Python\")\n",
    "# \"P\" in a\n",
    "\"w\" in a "
   ]
  },
  {
   "cell_type": "code",
   "execution_count": 26,
   "metadata": {},
   "outputs": [
    {
     "name": "stdout",
     "output_type": "stream",
     "text": [
      "[0, 1, 2, 3, 4, 5, 6, 7, 8]\n",
      "[0, 1, 2, 3, 4, 5, 6, 7, 8]\n",
      "[100, 1, 2, 3, 4, 5, 6, 7, 8]\n",
      "[0, 1, 2, 3, 4, 5, 6, 7, 8]\n"
     ]
    }
   ],
   "source": [
    "from copy import deepcopy\n",
    "a = [0, 1, 2, 3, 4, 5, 6, 7, 8]\n",
    "b = deepcopy(a)\n",
    "print(a)\n",
    "print(b)\n",
    "a[0] = 100\n",
    "print(a)\n",
    "print(b)"
   ]
  },
  {
   "cell_type": "code",
   "execution_count": 27,
   "metadata": {},
   "outputs": [
    {
     "name": "stdout",
     "output_type": "stream",
     "text": [
      "dict_keys(['a', 'b', 'c'])\n",
      "dict_values([100, 200, 300])\n",
      "None\n",
      "defalut\n"
     ]
    }
   ],
   "source": [
    "dic = {\"a\":100,\"b\":200,\"c\":300}\n",
    "print(dic.keys())\n",
    "print(dic.values())\n",
    "print(dic.get(\"d\"))\n",
    "print(dic.get(\"d\",\"defalut\"))"
   ]
  },
  {
   "cell_type": "code",
   "execution_count": 28,
   "metadata": {},
   "outputs": [
    {
     "name": "stdout",
     "output_type": "stream",
     "text": [
      "2 1\n"
     ]
    }
   ],
   "source": [
    "a,b = 1,2\n",
    "a,b = b,a\n",
    "print(a,b)"
   ]
  },
  {
   "cell_type": "code",
   "execution_count": 29,
   "metadata": {},
   "outputs": [
    {
     "data": {
      "text/plain": [
       "{1, 2}"
      ]
     },
     "execution_count": 29,
     "metadata": {},
     "output_type": "execute_result"
    }
   ],
   "source": [
    "x = set()\n",
    "x.add(1)\n",
    "x.add(2)\n",
    "x"
   ]
  },
  {
   "cell_type": "code",
   "execution_count": 30,
   "metadata": {},
   "outputs": [
    {
     "name": "stdout",
     "output_type": "stream",
     "text": [
      "{1, 2, 3, 4, 5}\n",
      "{3}\n",
      "{1, 2, 4}\n"
     ]
    }
   ],
   "source": [
    "a = set([1,2,3,4])\n",
    "print(a.union(set([3,5])))\n",
    "print(a.intersection(set([3,5])))\n",
    "print(a.difference(set([3,5])))"
   ]
  },
  {
   "cell_type": "code",
   "execution_count": 31,
   "metadata": {},
   "outputs": [
    {
     "name": "stdout",
     "output_type": "stream",
     "text": [
      "1\n",
      "2\n",
      "0\n"
     ]
    }
   ],
   "source": [
    "# SWITCH…CASE\n",
    "# Python 沒有Switch…Case，但可以使用字典模擬\n",
    "def func(x):\n",
    "    return {\"a\":1,\"b\":2}.get(x,0)\n",
    "print(func(\"a\"))\n",
    "print(func(\"b\"))\n",
    "print(func(\"c\"))"
   ]
  },
  {
   "cell_type": "code",
   "execution_count": 32,
   "metadata": {},
   "outputs": [
    {
     "name": "stdout",
     "output_type": "stream",
     "text": [
      "1\n",
      "2\n",
      "3\n"
     ]
    }
   ],
   "source": [
    "# Iterator(迭代器):一一取出內容物件\n",
    "s = [1,2,3,4,5]\n",
    "s_iter = iter(s)\n",
    "print(next(s_iter))\n",
    "print(next(s_iter))\n",
    "print(next(s_iter))"
   ]
  },
  {
   "cell_type": "code",
   "execution_count": 33,
   "metadata": {
    "scrolled": true
   },
   "outputs": [
    {
     "name": "stdout",
     "output_type": "stream",
     "text": [
      "x is currently: 0\n",
      "x is still less than 10, adding 1 to x\n",
      "x is currently: 1\n",
      "x is still less than 10, adding 1 to x\n",
      "x is currently: 2\n",
      "x is still less than 10, adding 1 to x\n",
      "continuing...\n",
      "x is currently: 3\n",
      "x is still less than 10, adding 1 to x\n",
      "x is currently: 4\n",
      "x is still less than 10, adding 1 to x\n",
      "Breaking because x==3\n"
     ]
    }
   ],
   "source": [
    "x = 0\n",
    "\n",
    "while x < 10:\n",
    "    print(\"x is currently:\",x)\n",
    "    print ('x is still less than 10, adding 1 to x')\n",
    "    x+=1\n",
    "    \n",
    "    if x == 5:\n",
    "        print ('Breaking because x==3')\n",
    "        break #Break暫停迴圈\n",
    "        \n",
    "    elif x == 3:\n",
    "        pass #Pass略過這一迴圈\n",
    "        print ('continuing...')\n",
    "        \n",
    "    else:\n",
    "        continue #Continue持續執行迴圈\n",
    "        print ('continuing...')\n",
    "        "
   ]
  },
  {
   "cell_type": "code",
   "execution_count": 34,
   "metadata": {},
   "outputs": [
    {
     "name": "stdout",
     "output_type": "stream",
     "text": [
      "Help on built-in module sys:\n",
      "\n",
      "NAME\n",
      "    sys\n",
      "\n",
      "MODULE REFERENCE\n",
      "    https://docs.python.org/3.7/library/sys\n",
      "    \n",
      "    The following documentation is automatically generated from the Python\n",
      "    source files.  It may be incomplete, incorrect or include features that\n",
      "    are considered implementation detail and may vary between Python\n",
      "    implementations.  When in doubt, consult the module reference at the\n",
      "    location listed above.\n",
      "\n",
      "DESCRIPTION\n",
      "    This module provides access to some objects used or maintained by the\n",
      "    interpreter and to functions that interact strongly with the interpreter.\n",
      "    \n",
      "    Dynamic objects:\n",
      "    \n",
      "    argv -- command line arguments; argv[0] is the script pathname if known\n",
      "    path -- module search path; path[0] is the script directory, else ''\n",
      "    modules -- dictionary of loaded modules\n",
      "    \n",
      "    displayhook -- called to show results in an interactive session\n",
      "    excepthook -- called to handle any uncaught exception other than SystemExit\n",
      "      To customize printing in an interactive session or to install a custom\n",
      "      top-level exception handler, assign other functions to replace these.\n",
      "    \n",
      "    stdin -- standard input file object; used by input()\n",
      "    stdout -- standard output file object; used by print()\n",
      "    stderr -- standard error object; used for error messages\n",
      "      By assigning other file objects (or objects that behave like files)\n",
      "      to these, it is possible to redirect all of the interpreter's I/O.\n",
      "    \n",
      "    last_type -- type of last uncaught exception\n",
      "    last_value -- value of last uncaught exception\n",
      "    last_traceback -- traceback of last uncaught exception\n",
      "      These three are only available in an interactive session after a\n",
      "      traceback has been printed.\n",
      "    \n",
      "    Static objects:\n",
      "    \n",
      "    builtin_module_names -- tuple of module names built into this interpreter\n",
      "    copyright -- copyright notice pertaining to this interpreter\n",
      "    exec_prefix -- prefix used to find the machine-specific Python library\n",
      "    executable -- absolute path of the executable binary of the Python interpreter\n",
      "    float_info -- a named tuple with information about the float implementation.\n",
      "    float_repr_style -- string indicating the style of repr() output for floats\n",
      "    hash_info -- a named tuple with information about the hash algorithm.\n",
      "    hexversion -- version information encoded as a single integer\n",
      "    implementation -- Python implementation information.\n",
      "    int_info -- a named tuple with information about the int implementation.\n",
      "    maxsize -- the largest supported length of containers.\n",
      "    maxunicode -- the value of the largest Unicode code point\n",
      "    platform -- platform identifier\n",
      "    prefix -- prefix used to find the Python library\n",
      "    thread_info -- a named tuple with information about the thread implementation.\n",
      "    version -- the version of this interpreter as a string\n",
      "    version_info -- version information as a named tuple\n",
      "    dllhandle -- [Windows only] integer handle of the Python DLL\n",
      "    winver -- [Windows only] version number of the Python DLL\n",
      "    _enablelegacywindowsfsencoding -- [Windows only] \n",
      "    __stdin__ -- the original stdin; don't touch!\n",
      "    __stdout__ -- the original stdout; don't touch!\n",
      "    __stderr__ -- the original stderr; don't touch!\n",
      "    __displayhook__ -- the original displayhook; don't touch!\n",
      "    __excepthook__ -- the original excepthook; don't touch!\n",
      "    \n",
      "    Functions:\n",
      "    \n",
      "    displayhook() -- print an object to the screen, and save it in builtins._\n",
      "    excepthook() -- print an exception and its traceback to sys.stderr\n",
      "    exc_info() -- return thread-safe information about the current exception\n",
      "    exit() -- exit the interpreter by raising SystemExit\n",
      "    getdlopenflags() -- returns flags to be used for dlopen() calls\n",
      "    getprofile() -- get the global profiling function\n",
      "    getrefcount() -- return the reference count for an object (plus one :-)\n",
      "    getrecursionlimit() -- return the max recursion depth for the interpreter\n",
      "    getsizeof() -- return the size of an object in bytes\n",
      "    gettrace() -- get the global debug tracing function\n",
      "    setcheckinterval() -- control how often the interpreter checks for events\n",
      "    setdlopenflags() -- set the flags to be used for dlopen() calls\n",
      "    setprofile() -- set the global profiling function\n",
      "    setrecursionlimit() -- set the max recursion depth for the interpreter\n",
      "    settrace() -- set the global debug tracing function\n",
      "\n",
      "FUNCTIONS\n",
      "    __breakpointhook__ = breakpointhook(...)\n",
      "        breakpointhook(*args, **kws)\n",
      "        \n",
      "        This hook function is called by built-in breakpoint().\n",
      "    \n",
      "    __displayhook__ = displayhook(...)\n",
      "        displayhook(object) -> None\n",
      "        \n",
      "        Print an object to sys.stdout and also save it in builtins._\n",
      "    \n",
      "    __excepthook__ = excepthook(...)\n",
      "        excepthook(exctype, value, traceback) -> None\n",
      "        \n",
      "        Handle an exception by displaying it with a traceback on sys.stderr.\n",
      "    \n",
      "    breakpointhook(...)\n",
      "        breakpointhook(*args, **kws)\n",
      "        \n",
      "        This hook function is called by built-in breakpoint().\n",
      "    \n",
      "    call_tracing(...)\n",
      "        call_tracing(func, args) -> object\n",
      "        \n",
      "        Call func(*args), while tracing is enabled.  The tracing state is\n",
      "        saved, and restored afterwards.  This is intended to be called from\n",
      "        a debugger from a checkpoint, to recursively debug some other code.\n",
      "    \n",
      "    callstats(...)\n",
      "        callstats() -> tuple of integers\n",
      "        \n",
      "        Return a tuple of function call statistics, if CALL_PROFILE was defined\n",
      "        when Python was built.  Otherwise, return None.\n",
      "        \n",
      "        When enabled, this function returns detailed, implementation-specific\n",
      "        details about the number of function calls executed. The return value is\n",
      "        a 11-tuple where the entries in the tuple are counts of:\n",
      "        0. all function calls\n",
      "        1. calls to PyFunction_Type objects\n",
      "        2. PyFunction calls that do not create an argument tuple\n",
      "        3. PyFunction calls that do not create an argument tuple\n",
      "           and bypass PyEval_EvalCodeEx()\n",
      "        4. PyMethod calls\n",
      "        5. PyMethod calls on bound methods\n",
      "        6. PyType calls\n",
      "        7. PyCFunction calls\n",
      "        8. generator calls\n",
      "        9. All other calls\n",
      "        10. Number of stack pops performed by call_function()\n",
      "    \n",
      "    exc_info(...)\n",
      "        exc_info() -> (type, value, traceback)\n",
      "        \n",
      "        Return information about the most recent exception caught by an except\n",
      "        clause in the current stack frame or in an older stack frame.\n",
      "    \n",
      "    exit(...)\n",
      "        exit([status])\n",
      "        \n",
      "        Exit the interpreter by raising SystemExit(status).\n",
      "        If the status is omitted or None, it defaults to zero (i.e., success).\n",
      "        If the status is an integer, it will be used as the system exit status.\n",
      "        If it is another kind of object, it will be printed and the system\n",
      "        exit status will be one (i.e., failure).\n",
      "    \n",
      "    get_asyncgen_hooks(...)\n",
      "        get_asyncgen_hooks()\n",
      "        \n",
      "        Return a namedtuple of installed asynchronous generators hooks (firstiter, finalizer).\n",
      "    \n",
      "    get_coroutine_origin_tracking_depth()\n",
      "        Check status of origin tracking for coroutine objects in this thread.\n",
      "    \n",
      "    get_coroutine_wrapper(...)\n",
      "        get_coroutine_wrapper()\n",
      "        \n",
      "        Return the wrapper for coroutine objects set by sys.set_coroutine_wrapper.\n",
      "    \n",
      "    getallocatedblocks(...)\n",
      "        getallocatedblocks() -> integer\n",
      "        \n",
      "        Return the number of memory blocks currently allocated, regardless of their\n",
      "        size.\n",
      "    \n",
      "    getcheckinterval(...)\n",
      "        getcheckinterval() -> current check interval; see setcheckinterval().\n",
      "    \n",
      "    getdefaultencoding(...)\n",
      "        getdefaultencoding() -> string\n",
      "        \n",
      "        Return the current default string encoding used by the Unicode \n",
      "        implementation.\n",
      "    \n",
      "    getfilesystemencodeerrors(...)\n",
      "        getfilesystemencodeerrors() -> string\n",
      "        \n",
      "        Return the error mode used to convert Unicode filenames in\n",
      "        operating system filenames.\n",
      "    \n",
      "    getfilesystemencoding(...)\n",
      "        getfilesystemencoding() -> string\n",
      "        \n",
      "        Return the encoding used to convert Unicode filenames in\n",
      "        operating system filenames.\n",
      "    \n",
      "    getprofile(...)\n",
      "        getprofile()\n",
      "        \n",
      "        Return the profiling function set with sys.setprofile.\n",
      "        See the profiler chapter in the library manual.\n",
      "    \n",
      "    getrecursionlimit(...)\n",
      "        getrecursionlimit()\n",
      "        \n",
      "        Return the current value of the recursion limit, the maximum depth\n",
      "        of the Python interpreter stack.  This limit prevents infinite\n",
      "        recursion from causing an overflow of the C stack and crashing Python.\n",
      "    \n",
      "    getrefcount(...)\n",
      "        getrefcount(object) -> integer\n",
      "        \n",
      "        Return the reference count of object.  The count returned is generally\n",
      "        one higher than you might expect, because it includes the (temporary)\n",
      "        reference as an argument to getrefcount().\n",
      "    \n",
      "    getsizeof(...)\n",
      "        getsizeof(object, default) -> int\n",
      "        \n",
      "        Return the size of object in bytes.\n",
      "    \n",
      "    getswitchinterval(...)\n",
      "        getswitchinterval() -> current thread switch interval; see setswitchinterval().\n",
      "    \n",
      "    gettrace(...)\n",
      "        gettrace()\n",
      "        \n",
      "        Return the global debug tracing function set with sys.settrace.\n",
      "        See the debugger chapter in the library manual.\n",
      "    \n",
      "    getwindowsversion(...)\n",
      "        getwindowsversion()\n",
      "        \n",
      "        Return information about the running version of Windows as a named tuple.\n",
      "        The members are named: major, minor, build, platform, service_pack,\n",
      "        service_pack_major, service_pack_minor, suite_mask, and product_type. For\n",
      "        backward compatibility, only the first 5 items are available by indexing.\n",
      "        All elements are numbers, except service_pack and platform_type which are\n",
      "        strings, and platform_version which is a 3-tuple. Platform is always 2.\n",
      "        Product_type may be 1 for a workstation, 2 for a domain controller, 3 for a\n",
      "        server. Platform_version is a 3-tuple containing a version number that is\n",
      "        intended for identifying the OS rather than feature detection.\n",
      "    \n",
      "    intern(...)\n",
      "        intern(string) -> string\n",
      "        \n",
      "        ``Intern'' the given string.  This enters the string in the (global)\n",
      "        table of interned strings whose purpose is to speed up dictionary lookups.\n",
      "        Return the string itself or the previously interned string object with the\n",
      "        same value.\n",
      "    \n",
      "    is_finalizing(...)\n",
      "        is_finalizing()\n",
      "        Return True if Python is exiting.\n",
      "    \n",
      "    set_asyncgen_hooks(...)\n",
      "        set_asyncgen_hooks(*, firstiter=None, finalizer=None)\n",
      "        \n",
      "        Set a finalizer for async generators objects.\n",
      "    \n",
      "    set_coroutine_origin_tracking_depth(depth)\n",
      "        Enable or disable origin tracking for coroutine objects in this thread.\n",
      "        \n",
      "        Coroutine objects will track 'depth' frames of traceback information about\n",
      "        where they came from, available in their cr_origin attribute. Set depth of 0\n",
      "        to disable.\n",
      "    \n",
      "    set_coroutine_wrapper(...)\n",
      "        set_coroutine_wrapper(wrapper)\n",
      "        \n",
      "        Set a wrapper for coroutine objects.\n",
      "    \n",
      "    setcheckinterval(...)\n",
      "        setcheckinterval(n)\n",
      "        \n",
      "        Tell the Python interpreter to check for asynchronous events every\n",
      "        n instructions.  This also affects how often thread switches occur.\n",
      "    \n",
      "    setprofile(...)\n",
      "        setprofile(function)\n",
      "        \n",
      "        Set the profiling function.  It will be called on each function call\n",
      "        and return.  See the profiler chapter in the library manual.\n",
      "    \n",
      "    setrecursionlimit(...)\n",
      "        setrecursionlimit(n)\n",
      "        \n",
      "        Set the maximum depth of the Python interpreter stack to n.  This\n",
      "        limit prevents infinite recursion from causing an overflow of the C\n",
      "        stack and crashing Python.  The highest possible limit is platform-\n",
      "        dependent.\n",
      "    \n",
      "    setswitchinterval(...)\n",
      "        setswitchinterval(n)\n",
      "        \n",
      "        Set the ideal thread switching delay inside the Python interpreter\n",
      "        The actual frequency of switching threads can be lower if the\n",
      "        interpreter executes long sequences of uninterruptible code\n",
      "        (this is implementation-specific and workload-dependent).\n",
      "        \n",
      "        The parameter must represent the desired switching delay in seconds\n",
      "        A typical value is 0.005 (5 milliseconds).\n",
      "    \n",
      "    settrace(...)\n",
      "        settrace(function)\n",
      "        \n",
      "        Set the global debug tracing function.  It will be called on each\n",
      "        function call.  See the debugger chapter in the library manual.\n",
      "\n",
      "DATA\n",
      "    __stderr__ = <_io.TextIOWrapper name='<stderr>' mode='w' encoding='UTF...\n",
      "    __stdin__ = <_io.TextIOWrapper name='<stdin>' mode='r' encoding='UTF-8...\n",
      "    __stdout__ = <_io.TextIOWrapper name='<stdout>' mode='w' encoding='UTF...\n",
      "    api_version = 1013\n",
      "    argv = [r'C:\\Users\\Ace\\AppData\\Roaming\\Python\\Python37\\site-packages\\i...\n",
      "    base_exec_prefix = r'C:\\Users\\Ace\\AppData\\Local\\Programs\\Python\\Python...\n",
      "    base_prefix = r'C:\\Users\\Ace\\AppData\\Local\\Programs\\Python\\Python37'\n",
      "    builtin_module_names = ('_abc', '_ast', '_bisect', '_blake2', '_codecs...\n",
      "    byteorder = 'little'\n",
      "    copyright = 'Copyright (c) 2001-2020 Python Software Foundati...ematis...\n",
      "    displayhook = <ipykernel.displayhook.ZMQShellDisplayHook object>\n",
      "    dllhandle = 140735328092160\n",
      "    dont_write_bytecode = False\n",
      "    exec_prefix = r'C:\\Users\\Ace\\AppData\\Local\\Programs\\Python\\Python37'\n",
      "    executable = r'C:\\Users\\Ace\\AppData\\Local\\Programs\\Python\\Python37\\pyt...\n",
      "    flags = sys.flags(debug=0, inspect=0, interactive=0, opt...ation=1, is...\n",
      "    float_info = sys.float_info(max=1.7976931348623157e+308, max_...epsilo...\n",
      "    float_repr_style = 'short'\n",
      "    hash_info = sys.hash_info(width=64, modulus=2305843009213693...iphash2...\n",
      "    hexversion = 50792432\n",
      "    implementation = namespace(cache_tag='cpython-37', hexversion=507...in...\n",
      "    int_info = sys.int_info(bits_per_digit=30, sizeof_digit=4)\n",
      "    maxsize = 9223372036854775807\n",
      "    maxunicode = 1114111\n",
      "    meta_path = [<class '_frozen_importlib.BuiltinImporter'>, <class '_fro...\n",
      "    modules = {'IPython': <module 'IPython' from 'C:\\\\Users\\\\Ace\\\\AppData\\...\n",
      "    path = [r'D:\\Python_Summarize\\Ace_Pycharm_Project\\python easy_to_go', ...\n",
      "    path_hooks = [<class 'zipimport.zipimporter'>, <function FileFinder.pa...\n",
      "    path_importer_cache = {r'C:\\Users\\Ace\\.ipython': FileFinder('C:\\\\Users...\n",
      "    platform = 'win32'\n",
      "    prefix = r'C:\\Users\\Ace\\AppData\\Local\\Programs\\Python\\Python37'\n",
      "    ps1 = 'In : '\n",
      "    ps2 = '...: '\n",
      "    ps3 = 'Out: '\n",
      "    stderr = <ipykernel.iostream.OutStream object>\n",
      "    stdin = <_io.TextIOWrapper name='<stdin>' mode='r' encoding='UTF-8'>\n",
      "    stdout = <ipykernel.iostream.OutStream object>\n",
      "    thread_info = sys.thread_info(name='nt', lock=None, version=None)\n",
      "    version = '3.7.7 (tags/v3.7.7:d7c567b08f, Mar 10 2020, 10:41:24) [MSC ...\n",
      "    version_info = sys.version_info(major=3, minor=7, micro=7, releaseleve...\n",
      "    warnoptions = []\n",
      "    winver = '3.7'\n",
      "\n",
      "FILE\n",
      "    (built-in)\n",
      "\n",
      "\n"
     ]
    }
   ],
   "source": [
    "import sys\n",
    "help(sys) #使用help查詢文件"
   ]
  },
  {
   "cell_type": "code",
   "execution_count": 35,
   "metadata": {},
   "outputs": [
    {
     "data": {
      "text/plain": [
       "['__breakpointhook__',\n",
       " '__displayhook__',\n",
       " '__doc__',\n",
       " '__excepthook__',\n",
       " '__interactivehook__',\n",
       " '__loader__',\n",
       " '__name__',\n",
       " '__package__',\n",
       " '__spec__',\n",
       " '__stderr__',\n",
       " '__stdin__',\n",
       " '__stdout__',\n",
       " '_base_executable',\n",
       " '_clear_type_cache',\n",
       " '_current_frames',\n",
       " '_debugmallocstats',\n",
       " '_enablelegacywindowsfsencoding',\n",
       " '_framework',\n",
       " '_getframe',\n",
       " '_git',\n",
       " '_home',\n",
       " '_xoptions',\n",
       " 'api_version',\n",
       " 'argv',\n",
       " 'base_exec_prefix',\n",
       " 'base_prefix',\n",
       " 'breakpointhook',\n",
       " 'builtin_module_names',\n",
       " 'byteorder',\n",
       " 'call_tracing',\n",
       " 'callstats',\n",
       " 'copyright',\n",
       " 'displayhook',\n",
       " 'dllhandle',\n",
       " 'dont_write_bytecode',\n",
       " 'exc_info',\n",
       " 'excepthook',\n",
       " 'exec_prefix',\n",
       " 'executable',\n",
       " 'exit',\n",
       " 'flags',\n",
       " 'float_info',\n",
       " 'float_repr_style',\n",
       " 'get_asyncgen_hooks',\n",
       " 'get_coroutine_origin_tracking_depth',\n",
       " 'get_coroutine_wrapper',\n",
       " 'getallocatedblocks',\n",
       " 'getcheckinterval',\n",
       " 'getdefaultencoding',\n",
       " 'getfilesystemencodeerrors',\n",
       " 'getfilesystemencoding',\n",
       " 'getprofile',\n",
       " 'getrecursionlimit',\n",
       " 'getrefcount',\n",
       " 'getsizeof',\n",
       " 'getswitchinterval',\n",
       " 'gettrace',\n",
       " 'getwindowsversion',\n",
       " 'hash_info',\n",
       " 'hexversion',\n",
       " 'implementation',\n",
       " 'int_info',\n",
       " 'intern',\n",
       " 'is_finalizing',\n",
       " 'maxsize',\n",
       " 'maxunicode',\n",
       " 'meta_path',\n",
       " 'modules',\n",
       " 'path',\n",
       " 'path_hooks',\n",
       " 'path_importer_cache',\n",
       " 'platform',\n",
       " 'prefix',\n",
       " 'ps1',\n",
       " 'ps2',\n",
       " 'ps3',\n",
       " 'set_asyncgen_hooks',\n",
       " 'set_coroutine_origin_tracking_depth',\n",
       " 'set_coroutine_wrapper',\n",
       " 'setcheckinterval',\n",
       " 'setprofile',\n",
       " 'setrecursionlimit',\n",
       " 'setswitchinterval',\n",
       " 'settrace',\n",
       " 'stderr',\n",
       " 'stdin',\n",
       " 'stdout',\n",
       " 'thread_info',\n",
       " 'version',\n",
       " 'version_info',\n",
       " 'warnoptions',\n",
       " 'winver']"
      ]
     },
     "execution_count": 35,
     "metadata": {},
     "output_type": "execute_result"
    }
   ],
   "source": [
    "dir(sys) #使用dir表列可用屬性與方法"
   ]
  },
  {
   "cell_type": "code",
   "execution_count": 36,
   "metadata": {},
   "outputs": [
    {
     "name": "stdout",
     "output_type": "stream",
     "text": [
      "Help on built-in function exit in module sys:\n",
      "\n",
      "exit(...)\n",
      "    exit([status])\n",
      "    \n",
      "    Exit the interpreter by raising SystemExit(status).\n",
      "    If the status is omitted or None, it defaults to zero (i.e., success).\n",
      "    If the status is an integer, it will be used as the system exit status.\n",
      "    If it is another kind of object, it will be printed and the system\n",
      "    exit status will be one (i.e., failure).\n",
      "\n"
     ]
    }
   ],
   "source": [
    "help(sys.exit) #不確定該方法的功能?使用help"
   ]
  },
  {
   "cell_type": "code",
   "execution_count": 37,
   "metadata": {},
   "outputs": [],
   "source": [
    "?sys.exit"
   ]
  },
  {
   "cell_type": "code",
   "execution_count": 38,
   "metadata": {},
   "outputs": [
    {
     "data": {
      "text/plain": [
       "['__add__',\n",
       " '__class__',\n",
       " '__contains__',\n",
       " '__delattr__',\n",
       " '__delitem__',\n",
       " '__dir__',\n",
       " '__doc__',\n",
       " '__eq__',\n",
       " '__format__',\n",
       " '__ge__',\n",
       " '__getattribute__',\n",
       " '__getitem__',\n",
       " '__gt__',\n",
       " '__hash__',\n",
       " '__iadd__',\n",
       " '__imul__',\n",
       " '__init__',\n",
       " '__init_subclass__',\n",
       " '__iter__',\n",
       " '__le__',\n",
       " '__len__',\n",
       " '__lt__',\n",
       " '__mul__',\n",
       " '__ne__',\n",
       " '__new__',\n",
       " '__reduce__',\n",
       " '__reduce_ex__',\n",
       " '__repr__',\n",
       " '__reversed__',\n",
       " '__rmul__',\n",
       " '__setattr__',\n",
       " '__setitem__',\n",
       " '__sizeof__',\n",
       " '__str__',\n",
       " '__subclasshook__',\n",
       " 'append',\n",
       " 'clear',\n",
       " 'copy',\n",
       " 'count',\n",
       " 'extend',\n",
       " 'index',\n",
       " 'insert',\n",
       " 'pop',\n",
       " 'remove',\n",
       " 'reverse',\n",
       " 'sort']"
      ]
     },
     "execution_count": 38,
     "metadata": {},
     "output_type": "execute_result"
    }
   ],
   "source": [
    "l = [1,2,3,4,5]\n",
    "dir(l)"
   ]
  },
  {
   "cell_type": "code",
   "execution_count": 39,
   "metadata": {},
   "outputs": [
    {
     "name": "stdout",
     "output_type": "stream",
     "text": [
      "Help on built-in function append:\n",
      "\n",
      "append(object, /) method of builtins.list instance\n",
      "    Append object to the end of the list.\n",
      "\n"
     ]
    }
   ],
   "source": [
    "help(l.append)"
   ]
  },
  {
   "cell_type": "code",
   "execution_count": 40,
   "metadata": {},
   "outputs": [
    {
     "name": "stdout",
     "output_type": "stream",
     "text": [
      "Help on built-in function count:\n",
      "\n",
      "count(value, /) method of builtins.list instance\n",
      "    Return number of occurrences of value.\n",
      "\n"
     ]
    }
   ],
   "source": [
    "help(l.count)"
   ]
  },
  {
   "cell_type": "code",
   "execution_count": 41,
   "metadata": {},
   "outputs": [
    {
     "name": "stdout",
     "output_type": "stream",
     "text": [
      "1\n",
      "3\n",
      "6\n",
      "10\n",
      "15\n"
     ]
    },
    {
     "data": {
      "text/plain": [
       "15"
      ]
     },
     "execution_count": 41,
     "metadata": {},
     "output_type": "execute_result"
    }
   ],
   "source": [
    "# 接受多個參數\n",
    "def add_all(x,*args):\n",
    "    res = x\n",
    "    print(res)\n",
    "    for y in args:\n",
    "        res += y\n",
    "        print(res)\n",
    "    return res\n",
    "\n",
    "add_all(1,2,3,4,5)"
   ]
  },
  {
   "cell_type": "code",
   "execution_count": 42,
   "metadata": {},
   "outputs": [
    {
     "data": {
      "text/plain": [
       "dict_items([('david', 'M'), ('Mary', 'F'), ('John', 'M')])"
      ]
     },
     "execution_count": 42,
     "metadata": {},
     "output_type": "execute_result"
    }
   ],
   "source": [
    "dic = {\"david\":\"M\",\"Mary\":\"F\",\"John\":\"M\"}\n",
    "dic.items()"
   ]
  },
  {
   "cell_type": "code",
   "execution_count": 43,
   "metadata": {},
   "outputs": [
    {
     "data": {
      "text/plain": [
       "[['david', 'Mary', 'John'], ['M', 'F', 'M']]"
      ]
     },
     "execution_count": 43,
     "metadata": {},
     "output_type": "execute_result"
    }
   ],
   "source": [
    "# 接受多個key/value參數\n",
    "def make_two_lists(**kwargs):\n",
    "    key,value = [],[]\n",
    "    for k,v in kwargs.items():\n",
    "        key.append(k)\n",
    "        value.append(v)\n",
    "    return[key,value]\n",
    "\n",
    "make_two_lists(david = \"M\",Mary = \"F\",John = \"M\")"
   ]
  },
  {
   "cell_type": "code",
   "execution_count": 44,
   "metadata": {},
   "outputs": [
    {
     "data": {
      "text/plain": [
       "4"
      ]
     },
     "execution_count": 44,
     "metadata": {},
     "output_type": "execute_result"
    }
   ],
   "source": [
    "# Lambda可以使用了單一陳述句建立簡單匿名函式，簡單方便，用完即丟。\n",
    "square = lambda num: num**2\n",
    "square(2)"
   ]
  },
  {
   "cell_type": "code",
   "execution_count": 45,
   "metadata": {},
   "outputs": [
    {
     "name": "stdout",
     "output_type": "stream",
     "text": [
      "False\n"
     ]
    },
    {
     "data": {
      "text/plain": [
       "True"
      ]
     },
     "execution_count": 45,
     "metadata": {},
     "output_type": "execute_result"
    }
   ],
   "source": [
    "#取偶數\n",
    "even = lambda x: x%2==0\n",
    "print(even(3))\n",
    "even(4)"
   ]
  },
  {
   "cell_type": "code",
   "execution_count": 46,
   "metadata": {},
   "outputs": [
    {
     "data": {
      "text/plain": [
       "'H'"
      ]
     },
     "execution_count": 46,
     "metadata": {},
     "output_type": "execute_result"
    }
   ],
   "source": [
    "#取第一個元素\n",
    "first = lambda s: s[0]\n",
    "first(\"Hello\")"
   ]
  },
  {
   "cell_type": "code",
   "execution_count": 47,
   "metadata": {},
   "outputs": [
    {
     "data": {
      "text/plain": [
       "'olleH'"
      ]
     },
     "execution_count": 47,
     "metadata": {},
     "output_type": "execute_result"
    }
   ],
   "source": [
    "#字串倒排\n",
    "rev = lambda s: s[::-1]\n",
    "rev(\"Hello\")"
   ]
  },
  {
   "cell_type": "code",
   "execution_count": 48,
   "metadata": {},
   "outputs": [
    {
     "name": "stdout",
     "output_type": "stream",
     "text": [
      "5\n"
     ]
    },
    {
     "data": {
      "text/plain": [
       "'OneTwo'"
      ]
     },
     "execution_count": 48,
     "metadata": {},
     "output_type": "execute_result"
    }
   ],
   "source": [
    "#兩個元素相加\n",
    "adder = lambda x,y: x+y\n",
    "print(adder(2,3))\n",
    "adder(\"One\",\"Two\")"
   ]
  },
  {
   "cell_type": "code",
   "execution_count": 49,
   "metadata": {},
   "outputs": [
    {
     "name": "stdout",
     "output_type": "stream",
     "text": [
      "25\n",
      "50\n"
     ]
    }
   ],
   "source": [
    "x = 25\n",
    "\n",
    "def printer():\n",
    "    x = 50\n",
    "    return x\n",
    "\n",
    "print(x)\n",
    "print(printer())"
   ]
  },
  {
   "cell_type": "code",
   "execution_count": 50,
   "metadata": {},
   "outputs": [
    {
     "name": "stdout",
     "output_type": "stream",
     "text": [
      "HelloSammy\n",
      "This is a global name\n",
      "This is a global nameThis is a global name\n"
     ]
    },
    {
     "data": {
      "text/plain": [
       "<function len(obj, /)>"
      ]
     },
     "execution_count": 50,
     "metadata": {},
     "output_type": "execute_result"
    }
   ],
   "source": [
    "f = lambda x: x*2\n",
    "\n",
    "name = 'This is a global name'\n",
    "\n",
    "def greet():\n",
    "    name = \"Sammy\"\n",
    "    def hello():\n",
    "        print(\"Hello\"+name)\n",
    "    hello()\n",
    "    \n",
    "greet()\n",
    "print(name)\n",
    "print(f(name))\n",
    "len"
   ]
  },
  {
   "cell_type": "code",
   "execution_count": 51,
   "metadata": {},
   "outputs": [
    {
     "name": "stdout",
     "output_type": "stream",
     "text": [
      "HelloSammy\n",
      "Sammy\n"
     ]
    },
    {
     "data": {
      "text/plain": [
       "'SammySammy'"
      ]
     },
     "execution_count": 51,
     "metadata": {},
     "output_type": "execute_result"
    }
   ],
   "source": [
    "f = lambda x: x*2\n",
    "\n",
    "name = 'This is a global name'\n",
    "\n",
    "def greet():\n",
    "    global name\n",
    "    name = \"Sammy\"\n",
    "    def hello():\n",
    "        print(\"Hello\"+name)\n",
    "    hello()\n",
    "    \n",
    "greet()\n",
    "print(name)\n",
    "f(name)"
   ]
  },
  {
   "cell_type": "code",
   "execution_count": 52,
   "metadata": {},
   "outputs": [
    {
     "name": "stdout",
     "output_type": "stream",
     "text": [
      "Lab\n",
      "Sam\n",
      "mammal\n",
      "Huskie\n"
     ]
    },
    {
     "data": {
      "text/plain": [
       "'mammal'"
      ]
     },
     "execution_count": 52,
     "metadata": {},
     "output_type": "execute_result"
    }
   ],
   "source": [
    "class Dog:\n",
    "    species = \"mammal\" #類別屬性是公開的，類別以外的地方也可以存取\n",
    "    def __init__(self,breed,name):\n",
    "        self.breed = breed\n",
    "        self.name = name\n",
    "\n",
    "sam = Dog(breed=\"Lab\",name=\"Sam\")\n",
    "frank = Dog(breed=\"Huskie\",name=\"Frank\")\n",
    "\n",
    "print(sam.breed)\n",
    "print(sam.name)\n",
    "print(sam.species)\n",
    "print(frank.breed)\n",
    "Dog.species "
   ]
  },
  {
   "cell_type": "code",
   "execution_count": 53,
   "metadata": {},
   "outputs": [
    {
     "name": "stdout",
     "output_type": "stream",
     "text": [
      "2\n",
      "12.56\n"
     ]
    }
   ],
   "source": [
    "class Circle:\n",
    "    pi = 3.14\n",
    "    def __init__(self,radius=1):\n",
    "        self.radius = radius\n",
    "    def area(self):\n",
    "        return self.radius * self.radius * Circle.pi\n",
    "    def SetRadius(self,radius):\n",
    "        self.radius = radius\n",
    "    def GetRaius(self):\n",
    "        return self.radius\n",
    "    \n",
    "c = Circle()\n",
    "c.SetRadius(radius=2)\n",
    "print(c.GetRaius())\n",
    "print(c.area())"
   ]
  },
  {
   "cell_type": "code",
   "execution_count": 54,
   "metadata": {},
   "outputs": [
    {
     "name": "stdout",
     "output_type": "stream",
     "text": [
      "Eating\n",
      "Animal\n"
     ]
    }
   ],
   "source": [
    "class Animal: #建立Animal類別\n",
    "#     def __init__(self):\n",
    "#         print(\"Animal Created\")\n",
    "    def who_am_i(self):\n",
    "        print(\"Animal\")\n",
    "    def eat(self):\n",
    "        print(\"Eating\")\n",
    "\n",
    "a = Animal()\n",
    "a.eat()\n",
    "a.who_am_i()"
   ]
  },
  {
   "cell_type": "code",
   "execution_count": 55,
   "metadata": {},
   "outputs": [
    {
     "name": "stdout",
     "output_type": "stream",
     "text": [
      "Dog\n",
      "Eating\n",
      "wolf\n"
     ]
    }
   ],
   "source": [
    "class Dog(Animal): #建立Dog類別繼承Animal類別\n",
    "    #當要建立的新類別與已經存在的類別有許多共通的屬性與方法，可以繼承該已存在類別\n",
    "    #優點為重用(reuse)已存在的程式碼，並且降低程式的複雜度\n",
    "    def who_am_i(self): #改寫Animal內的方法\n",
    "        print(\"Dog\")\n",
    "    def bark(self):\n",
    "        print(\"wolf\")\n",
    "\n",
    "d = Dog()\n",
    "d.who_am_i()\n",
    "d.eat() #可以使用Animal內定義的方法\n",
    "d.bark()"
   ]
  },
  {
   "cell_type": "code",
   "execution_count": 56,
   "metadata": {},
   "outputs": [
    {
     "data": {
      "text/plain": [
       "3"
      ]
     },
     "execution_count": 56,
     "metadata": {},
     "output_type": "execute_result"
    }
   ],
   "source": [
    "#引用模組\n",
    "import math\n",
    "math.ceil(2.4)"
   ]
  }
 ],
 "metadata": {
  "kernelspec": {
   "display_name": "Python 3",
   "language": "python",
   "name": "python3"
  },
  "language_info": {
   "codemirror_mode": {
    "name": "ipython",
    "version": 3
   },
   "file_extension": ".py",
   "mimetype": "text/x-python",
   "name": "python",
   "nbconvert_exporter": "python",
   "pygments_lexer": "ipython3",
   "version": "3.7.7"
  }
 },
 "nbformat": 4,
 "nbformat_minor": 1
}
